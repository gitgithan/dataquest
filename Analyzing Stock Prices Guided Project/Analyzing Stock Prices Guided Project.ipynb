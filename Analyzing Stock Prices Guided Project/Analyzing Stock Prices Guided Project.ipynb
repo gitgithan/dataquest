{
 "cells": [
  {
   "cell_type": "code",
   "execution_count": 1,
   "metadata": {},
   "outputs": [
    {
     "name": "stdout",
     "output_type": "stream",
     "text": [
      "Downloading AAAP\n"
     ]
    }
   ],
   "source": [
    "import requests \n",
    "import csv\n",
    "import os \n",
    "import time\n",
    "\n",
    "api_url = 'https://www.alphavantage.co/query'\n",
    "api_key = os.environ['ALPHA_ADVANTAGE']\n",
    "params = {'function':'TIME_SERIES_DAILY_ADJUSTED',\n",
    "              'outputsize':'full',\n",
    "              'datatype':'csv',\n",
    "             'apikey': api_key}\n",
    "\n",
    "def download_data_full(symbol):\n",
    "    '''\n",
    "    download the full-length time series of \n",
    "    up to 20 years of historical data for a symbol\n",
    "    '''\n",
    "    params['symbol'] = symbol    #add one more variable parameter to symbol\n",
    "\n",
    "    response = requests.get(api_url, params=params)\n",
    "    if response.status_code == 200:\n",
    "        data = response.content.decode('utf-8')\n",
    "    else:\n",
    "        print('[!] HTTP {0} calling [{1}]'.format(response.status_code, api_url))\n",
    "    result = [data.split(',') for data in data.split('\\r\\n')]\n",
    "    return result \n",
    "\n",
    "with open(\"nasdaqlisted.txt\", 'r') as f:\n",
    "    stock_listed = f.read()\n",
    "\n",
    "\n",
    "for line in stock_listed.split(\"\\n\")[1:2]:   #download only the 1st stock in nasdaqlisted.txt\n",
    "    symbol = line.split(\"|\")[0]\n",
    "    print(\"Downloading {}\".format(symbol))\n",
    "    try:\n",
    "        result = download_data_full(symbol)\n",
    "        with open(\"prices/{}_daily_adjusted.csv\".format(symbol.lower()), \"w+\") as f:\n",
    "            writer = csv.writer(f)\n",
    "            writer.writerows(result)\n",
    "    except Exception as e:\n",
    "        print(e)\n",
    "    time.sleep(1)"
   ]
  },
  {
   "cell_type": "markdown",
   "metadata": {},
   "source": [
    "# Histogram of size of files in folder"
   ]
  },
  {
   "cell_type": "code",
   "execution_count": 2,
   "metadata": {},
   "outputs": [
    {
     "data": {
      "text/plain": [
       "(array([   1.,    0.,    0.,    1.,  169.,  104.,  121.,  104.,   54.,    7.]),\n",
       " array([  45405. ,   57323.3,   69241.6,   81159.9,   93078.2,  104996.5,\n",
       "         116914.8,  128833.1,  140751.4,  152669.7,  164588. ]),\n",
       " <a list of 10 Patch objects>)"
      ]
     },
     "execution_count": 2,
     "metadata": {},
     "output_type": "execute_result"
    },
    {
     "data": {
      "image/png": "[encoded data removed]",
      "text/plain": [
       "<matplotlib.figure.Figure at 0x5d9ddd8>"
      ]
     },
     "metadata": {},
     "output_type": "display_data"
    }
   ],
   "source": [
    "import matplotlib.pyplot as plt\n",
    "import numpy as np\n",
    "%matplotlib inline\n",
    "\n",
    "sizes = []\n",
    "for i in os.listdir('prices'):\n",
    "    sizes.append(os.path.getsize(\"prices/{}\".format(i)))\n",
    "plt.hist(sizes,bins =10)"
   ]
  },
  {
   "cell_type": "markdown",
   "metadata": {},
   "source": [
    "# Time taken to read without multithread 2.2-3.2 seconds"
   ]
  },
  {
   "cell_type": "code",
   "execution_count": 3,
   "metadata": {},
   "outputs": [
    {
     "name": "stdout",
     "output_type": "stream",
     "text": [
      "0\n",
      "1\n",
      "2\n",
      "3\n",
      "4\n",
      "5\n",
      "6\n",
      "7\n",
      "8\n",
      "9\n"
     ]
    }
   ],
   "source": [
    "import time\n",
    "\n",
    "class HashTable():\n",
    "    \n",
    "    def __init__(self, size):\n",
    "        self.array = np.zeros(size, dtype=np.object)\n",
    "        self.size = size\n",
    "    \n",
    "    def __getitem__(self, key):\n",
    "        ind = hash(key)%self.size\n",
    "        for k,v in self.array[ind]:\n",
    "            if key == k:\n",
    "                return v\n",
    "    \n",
    "    def __setitem__(self, key, value):\n",
    "        ind = hash(key)%self.size\n",
    "        if not isinstance(self.array[ind], list):\n",
    "            self.array[ind] = []\n",
    "        replace = None\n",
    "        for i,data in enumerate(self.array[ind]):\n",
    "            if data[0] == key:\n",
    "                replace = i\n",
    "        if replace is None:\n",
    "            self.array[ind].append((key,value))\n",
    "        else:\n",
    "            self.array[ind][replace] = (key, value)\n",
    "            \n",
    "hash_table = HashTable(561)\n",
    "directory = \"prices\"\n",
    "\n",
    "def run():\n",
    "    \n",
    "    start = time.time()\n",
    "    for filename in os.listdir(directory):\n",
    "        key = filename.replace(\".csv\", \"\")\n",
    "        with open(\"prices/{}\".format(filename)) as f:\n",
    "            data = f.read().split(\"\\n\")[1:]  #to remove header\n",
    "            neat_data = [item.split(',') for item in data]\n",
    "            \n",
    "            hash_table[key] = neat_data\n",
    "    return time.time()-start\n",
    "\n",
    "times = []\n",
    "\n",
    "for i in range(10):\n",
    "        print(i)\n",
    "        times.append(run())"
   ]
  },
  {
   "cell_type": "code",
   "execution_count": 4,
   "metadata": {},
   "outputs": [
    {
     "data": {
      "text/plain": [
       "(array([ 2.,  1.,  3.,  3.,  0.,  0.,  0.,  0.,  0.,  1.]),\n",
       " array([ 2.05429983,  2.15092986,  2.24755988,  2.34418991,  2.44081993,\n",
       "         2.53744996,  2.63407998,  2.73071001,  2.82734003,  2.92397006,\n",
       "         3.02060008]),\n",
       " <a list of 10 Patch objects>)"
      ]
     },
     "execution_count": 4,
     "metadata": {},
     "output_type": "execute_result"
    },
    {
     "data": {
      "image/png": "[encoded data removed]",
      "text/plain": [
       "<matplotlib.figure.Figure at 0x975b630>"
      ]
     },
     "metadata": {},
     "output_type": "display_data"
    }
   ],
   "source": [
    "import matplotlib.pyplot as plt\n",
    "import numpy as np\n",
    "%matplotlib inline\n",
    "\n",
    "plt.hist(times)"
   ]
  },
  {
   "cell_type": "markdown",
   "metadata": {},
   "source": [
    "## Time taken to read with multithread (2 worker)  up to 0.03 secs , a 100x improvement "
   ]
  },
  {
   "cell_type": "code",
   "execution_count": 5,
   "metadata": {},
   "outputs": [
    {
     "data": {
      "text/plain": [
       "(array([ 6.,  0.,  0.,  0.,  0.,  0.,  0.,  0.,  0.,  4.]),\n",
       " array([ 0.        ,  0.00156002,  0.00312004,  0.00468006,  0.00624008,\n",
       "         0.0078001 ,  0.00936012,  0.01092014,  0.01248016,  0.01404018,\n",
       "         0.0156002 ]),\n",
       " <a list of 10 Patch objects>)"
      ]
     },
     "execution_count": 5,
     "metadata": {},
     "output_type": "execute_result"
    },
    {
     "data": {
      "image/png": "[encoded data removed]",
      "text/plain": [
       "<matplotlib.figure.Figure at 0x5aff0f0>"
      ]
     },
     "metadata": {},
     "output_type": "display_data"
    }
   ],
   "source": [
    "import concurrent.futures\n",
    "import numpy as np\n",
    "\n",
    "class HashTable():\n",
    "    \n",
    "    def __init__(self, size):\n",
    "        self.array = np.zeros(size, dtype=np.object)\n",
    "        self.size = size\n",
    "    \n",
    "    def __getitem__(self, key):\n",
    "        ind = hash(key)%self.size\n",
    "        for k,v in self.array[ind]:\n",
    "            if key == k:\n",
    "                return v\n",
    "    \n",
    "    def __setitem__(self, key, value):\n",
    "        ind = hash(key)%self.size\n",
    "        if not isinstance(self.array[ind], list):\n",
    "            self.array[ind] = []\n",
    "        replace = None\n",
    "        for i,data in enumerate(self.array[ind]):\n",
    "            if data[0] == key:\n",
    "                replace = i\n",
    "        if replace is None:\n",
    "            self.array[ind].append((key,value))\n",
    "        else:\n",
    "            self.array[ind][replace] = (key, value)\n",
    "            \n",
    "hash_table2 = HashTable(561)\n",
    "directory = \"prices\"\n",
    "\n",
    "\n",
    "\n",
    "filenames = [filename for filename in os.listdir(directory)]\n",
    "\n",
    "def read_files(filename):\n",
    "    key = filename.replace(\".csv\", \"\")\n",
    "    with open(\"prices/{}\".format(filename)) as f:\n",
    "        data = f.read().split(\"\\n\")[1:]  #to remove header\n",
    "        neat_data = [item.split(',') for item in data]\n",
    "        \n",
    "        hash_table2[key] = neat_data\n",
    "        \n",
    "        \n",
    "pool = concurrent.futures.ThreadPoolExecutor(max_workers=2)\n",
    "\n",
    "def run_pool():\n",
    "    start = time.time()\n",
    "    pool.map(read_files, filenames)\n",
    "    return time.time()-start\n",
    "\n",
    "    \n",
    "times_pool = []\n",
    "\n",
    "for i in range(10):\n",
    "        times_pool.append(run_pool())\n",
    "        \n",
    "import matplotlib.pyplot as plt\n",
    "import numpy as np\n",
    "%matplotlib inline\n",
    "\n",
    "plt.hist(times_pool,bins=10)"
   ]
  }
 ],
 "metadata": {
  "kernelspec": {
   "display_name": "Python 3",
   "language": "python",
   "name": "python3"
  },
  "language_info": {
   "codemirror_mode": {
    "name": "ipython",
    "version": 3
   },
   "file_extension": ".py",
   "mimetype": "text/x-python",
   "name": "python",
   "nbconvert_exporter": "python",
   "pygments_lexer": "ipython3",
   "version": "3.6.3"
  }
 },
 "nbformat": 4,
 "nbformat_minor": 2
}
