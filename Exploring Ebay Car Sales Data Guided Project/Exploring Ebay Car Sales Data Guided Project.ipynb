{
 "cells": [
  {
   "cell_type": "markdown",
   "metadata": {
    "toc": true
   },
   "source": [
    "<h1>Table of Contents<span class=\"tocSkip\"></span></h1>\n",
    "<div class=\"toc\"><ul class=\"toc-item\"><li><span><a href=\"#Introduction\" data-toc-modified-id=\"Introduction-1\"><span class=\"toc-item-num\">1&nbsp;&nbsp;</span>Introduction</a></span></li><li><span><a href=\"#Exploring-price-and-odometer_km-columns\" data-toc-modified-id=\"Exploring-price-and-odometer_km-columns-2\"><span class=\"toc-item-num\">2&nbsp;&nbsp;</span>Exploring <code>price</code> and <code>odometer_km</code> columns</a></span></li><li><span><a href=\"#Exploring-Dates\" data-toc-modified-id=\"Exploring-Dates-3\"><span class=\"toc-item-num\">3&nbsp;&nbsp;</span>Exploring Dates</a></span></li><li><span><a href=\"#Fixing-incorrect-registration-year\" data-toc-modified-id=\"Fixing-incorrect-registration-year-4\"><span class=\"toc-item-num\">4&nbsp;&nbsp;</span>Fixing incorrect registration year</a></span></li><li><span><a href=\"#Exploring-Price-by-Brand\" data-toc-modified-id=\"Exploring-Price-by-Brand-5\"><span class=\"toc-item-num\">5&nbsp;&nbsp;</span>Exploring Price by Brand</a></span></li><li><span><a href=\"#Most-common-brand/model-combinations\" data-toc-modified-id=\"Most-common-brand/model-combinations-6\"><span class=\"toc-item-num\">6&nbsp;&nbsp;</span>Most common brand/model combinations</a></span></li><li><span><a href=\"#Relating-Mileage-and-Price\" data-toc-modified-id=\"Relating-Mileage-and-Price-7\"><span class=\"toc-item-num\">7&nbsp;&nbsp;</span>Relating Mileage and Price</a></span></li><li><span><a href=\"#Comparing-damage-vs-no-damage\" data-toc-modified-id=\"Comparing-damage-vs-no-damage-8\"><span class=\"toc-item-num\">8&nbsp;&nbsp;</span>Comparing damage vs no damage</a></span></li></ul></div>"
   ]
  },
  {
   "cell_type": "markdown",
   "metadata": {},
   "source": [
    "# Introduction "
   ]
  },
  {
   "cell_type": "markdown",
   "metadata": {},
   "source": [
    "This project explores Ebay Car Sales Data. The data is sampled from the full dataset from Kaggle https://www.kaggle.com/orgesleka/used-cars-database/data and dirtied."
   ]
  },
  {
   "cell_type": "code",
   "execution_count": 1,
   "metadata": {
    "ExecuteTime": {
     "end_time": "2018-09-28T06:43:44.138000Z",
     "start_time": "2018-09-28T06:43:44.132000Z"
    }
   },
   "outputs": [],
   "source": [
    "from IPython.core.interactiveshell import InteractiveShell\n",
    "InteractiveShell.ast_node_interactivity = \"all\""
   ]
  },
  {
   "cell_type": "code",
   "execution_count": 2,
   "metadata": {
    "ExecuteTime": {
     "end_time": "2018-09-28T06:43:45.627000Z",
     "start_time": "2018-09-28T06:43:44.141000Z"
    },
    "scrolled": false
   },
   "outputs": [],
   "source": [
    "import pandas as pd\n",
    "import numpy as np\n",
    "import matplotlib.pyplot as plt\n",
    "%matplotlib inline"
   ]
  },
  {
   "cell_type": "code",
   "execution_count": 3,
   "metadata": {
    "ExecuteTime": {
     "end_time": "2018-09-28T06:43:45.923000Z",
     "start_time": "2018-09-28T06:43:45.629000Z"
    }
   },
   "outputs": [
    {
     "data": {
      "text/html": [
       "<div>\n",
       "<style scoped>\n",
       "    .dataframe tbody tr th:only-of-type {\n",
       "        vertical-align: middle;\n",
       "    }\n",
       "\n",
       "    .dataframe tbody tr th {\n",
       "        vertical-align: top;\n",
       "    }\n",
       "\n",
       "    .dataframe thead th {\n",
       "        text-align: right;\n",
       "    }\n",
       "</style>\n",
       "<table border=\"1\" class=\"dataframe\">\n",
       "  <thead>\n",
       "    <tr style=\"text-align: right;\">\n",
       "      <th></th>\n",
       "      <th>dateCrawled</th>\n",
       "      <th>name</th>\n",
       "      <th>seller</th>\n",
       "      <th>offerType</th>\n",
       "      <th>price</th>\n",
       "      <th>abtest</th>\n",
       "      <th>vehicleType</th>\n",
       "      <th>yearOfRegistration</th>\n",
       "      <th>gearbox</th>\n",
       "      <th>powerPS</th>\n",
       "      <th>model</th>\n",
       "      <th>odometer</th>\n",
       "      <th>monthOfRegistration</th>\n",
       "      <th>fuelType</th>\n",
       "      <th>brand</th>\n",
       "      <th>notRepairedDamage</th>\n",
       "      <th>dateCreated</th>\n",
       "      <th>nrOfPictures</th>\n",
       "      <th>postalCode</th>\n",
       "      <th>lastSeen</th>\n",
       "    </tr>\n",
       "  </thead>\n",
       "  <tbody>\n",
       "    <tr>\n",
       "      <th>0</th>\n",
       "      <td>2016-03-26 17:47:46</td>\n",
       "      <td>Peugeot_807_160_NAVTECH_ON_BOARD</td>\n",
       "      <td>privat</td>\n",
       "      <td>Angebot</td>\n",
       "      <td>$5,000</td>\n",
       "      <td>control</td>\n",
       "      <td>bus</td>\n",
       "      <td>2004</td>\n",
       "      <td>manuell</td>\n",
       "      <td>158</td>\n",
       "      <td>andere</td>\n",
       "      <td>150,000km</td>\n",
       "      <td>3</td>\n",
       "      <td>lpg</td>\n",
       "      <td>peugeot</td>\n",
       "      <td>nein</td>\n",
       "      <td>2016-03-26 00:00:00</td>\n",
       "      <td>0</td>\n",
       "      <td>79588</td>\n",
       "      <td>2016-04-06 06:45:54</td>\n",
       "    </tr>\n",
       "    <tr>\n",
       "      <th>1</th>\n",
       "      <td>2016-04-04 13:38:56</td>\n",
       "      <td>BMW_740i_4_4_Liter_HAMANN_UMBAU_Mega_Optik</td>\n",
       "      <td>privat</td>\n",
       "      <td>Angebot</td>\n",
       "      <td>$8,500</td>\n",
       "      <td>control</td>\n",
       "      <td>limousine</td>\n",
       "      <td>1997</td>\n",
       "      <td>automatik</td>\n",
       "      <td>286</td>\n",
       "      <td>7er</td>\n",
       "      <td>150,000km</td>\n",
       "      <td>6</td>\n",
       "      <td>benzin</td>\n",
       "      <td>bmw</td>\n",
       "      <td>nein</td>\n",
       "      <td>2016-04-04 00:00:00</td>\n",
       "      <td>0</td>\n",
       "      <td>71034</td>\n",
       "      <td>2016-04-06 14:45:08</td>\n",
       "    </tr>\n",
       "    <tr>\n",
       "      <th>2</th>\n",
       "      <td>2016-03-26 18:57:24</td>\n",
       "      <td>Volkswagen_Golf_1.6_United</td>\n",
       "      <td>privat</td>\n",
       "      <td>Angebot</td>\n",
       "      <td>$8,990</td>\n",
       "      <td>test</td>\n",
       "      <td>limousine</td>\n",
       "      <td>2009</td>\n",
       "      <td>manuell</td>\n",
       "      <td>102</td>\n",
       "      <td>golf</td>\n",
       "      <td>70,000km</td>\n",
       "      <td>7</td>\n",
       "      <td>benzin</td>\n",
       "      <td>volkswagen</td>\n",
       "      <td>nein</td>\n",
       "      <td>2016-03-26 00:00:00</td>\n",
       "      <td>0</td>\n",
       "      <td>35394</td>\n",
       "      <td>2016-04-06 20:15:37</td>\n",
       "    </tr>\n",
       "    <tr>\n",
       "      <th>3</th>\n",
       "      <td>2016-03-12 16:58:10</td>\n",
       "      <td>Smart_smart_fortwo_coupe_softouch/F1/Klima/Pan...</td>\n",
       "      <td>privat</td>\n",
       "      <td>Angebot</td>\n",
       "      <td>$4,350</td>\n",
       "      <td>control</td>\n",
       "      <td>kleinwagen</td>\n",
       "      <td>2007</td>\n",
       "      <td>automatik</td>\n",
       "      <td>71</td>\n",
       "      <td>fortwo</td>\n",
       "      <td>70,000km</td>\n",
       "      <td>6</td>\n",
       "      <td>benzin</td>\n",
       "      <td>smart</td>\n",
       "      <td>nein</td>\n",
       "      <td>2016-03-12 00:00:00</td>\n",
       "      <td>0</td>\n",
       "      <td>33729</td>\n",
       "      <td>2016-03-15 03:16:28</td>\n",
       "    </tr>\n",
       "    <tr>\n",
       "      <th>4</th>\n",
       "      <td>2016-04-01 14:38:50</td>\n",
       "      <td>Ford_Focus_1_6_Benzin_TÜV_neu_ist_sehr_gepfleg...</td>\n",
       "      <td>privat</td>\n",
       "      <td>Angebot</td>\n",
       "      <td>$1,350</td>\n",
       "      <td>test</td>\n",
       "      <td>kombi</td>\n",
       "      <td>2003</td>\n",
       "      <td>manuell</td>\n",
       "      <td>0</td>\n",
       "      <td>focus</td>\n",
       "      <td>150,000km</td>\n",
       "      <td>7</td>\n",
       "      <td>benzin</td>\n",
       "      <td>ford</td>\n",
       "      <td>nein</td>\n",
       "      <td>2016-04-01 00:00:00</td>\n",
       "      <td>0</td>\n",
       "      <td>39218</td>\n",
       "      <td>2016-04-01 14:38:50</td>\n",
       "    </tr>\n",
       "  </tbody>\n",
       "</table>\n",
       "</div>"
      ],
      "text/plain": [
       "           dateCrawled                                               name  \\\n",
       "0  2016-03-26 17:47:46                   Peugeot_807_160_NAVTECH_ON_BOARD   \n",
       "1  2016-04-04 13:38:56         BMW_740i_4_4_Liter_HAMANN_UMBAU_Mega_Optik   \n",
       "2  2016-03-26 18:57:24                         Volkswagen_Golf_1.6_United   \n",
       "3  2016-03-12 16:58:10  Smart_smart_fortwo_coupe_softouch/F1/Klima/Pan...   \n",
       "4  2016-04-01 14:38:50  Ford_Focus_1_6_Benzin_TÜV_neu_ist_sehr_gepfleg...   \n",
       "\n",
       "   seller offerType   price   abtest vehicleType  yearOfRegistration  \\\n",
       "0  privat   Angebot  $5,000  control         bus                2004   \n",
       "1  privat   Angebot  $8,500  control   limousine                1997   \n",
       "2  privat   Angebot  $8,990     test   limousine                2009   \n",
       "3  privat   Angebot  $4,350  control  kleinwagen                2007   \n",
       "4  privat   Angebot  $1,350     test       kombi                2003   \n",
       "\n",
       "     gearbox  powerPS   model   odometer  monthOfRegistration fuelType  \\\n",
       "0    manuell      158  andere  150,000km                    3      lpg   \n",
       "1  automatik      286     7er  150,000km                    6   benzin   \n",
       "2    manuell      102    golf   70,000km                    7   benzin   \n",
       "3  automatik       71  fortwo   70,000km                    6   benzin   \n",
       "4    manuell        0   focus  150,000km                    7   benzin   \n",
       "\n",
       "        brand notRepairedDamage          dateCreated  nrOfPictures  \\\n",
       "0     peugeot              nein  2016-03-26 00:00:00             0   \n",
       "1         bmw              nein  2016-04-04 00:00:00             0   \n",
       "2  volkswagen              nein  2016-03-26 00:00:00             0   \n",
       "3       smart              nein  2016-03-12 00:00:00             0   \n",
       "4        ford              nein  2016-04-01 00:00:00             0   \n",
       "\n",
       "   postalCode             lastSeen  \n",
       "0       79588  2016-04-06 06:45:54  \n",
       "1       71034  2016-04-06 14:45:08  \n",
       "2       35394  2016-04-06 20:15:37  \n",
       "3       33729  2016-03-15 03:16:28  \n",
       "4       39218  2016-04-01 14:38:50  "
      ]
     },
     "execution_count": 3,
     "metadata": {},
     "output_type": "execute_result"
    }
   ],
   "source": [
    "autos = pd.read_csv('autos.csv',encoding = 'latin1')\n",
    "autos.head()"
   ]
  },
  {
   "cell_type": "code",
   "execution_count": 166,
   "metadata": {
    "ExecuteTime": {
     "end_time": "2018-09-28T08:18:34.249001Z",
     "start_time": "2018-09-28T08:18:34.204001Z"
    }
   },
   "outputs": [
    {
     "name": "stdout",
     "output_type": "stream",
     "text": [
      "<class 'pandas.core.frame.DataFrame'>\n",
      "Int64Index: 46681 entries, 0 to 49999\n",
      "Data columns (total 17 columns):\n",
      "dateCrawled           46681 non-null object\n",
      "name                  46681 non-null object\n",
      "price                 46681 non-null int32\n",
      "abtest                46681 non-null object\n",
      "vehicleType           43977 non-null object\n",
      "registration_year     46681 non-null int64\n",
      "gearbox               44571 non-null object\n",
      "powerPS               46681 non-null int64\n",
      "model                 44488 non-null object\n",
      "odometer_km           46681 non-null int32\n",
      "registration_month    46681 non-null int64\n",
      "fuelType              43363 non-null object\n",
      "brand                 46681 non-null object\n",
      "unrepaired_damage     38374 non-null object\n",
      "ad_created            46681 non-null object\n",
      "postalCode            46681 non-null int64\n",
      "lastSeen              46681 non-null object\n",
      "dtypes: int32(2), int64(4), object(11)\n",
      "memory usage: 7.3+ MB\n"
     ]
    }
   ],
   "source": [
    "autos.info()"
   ]
  },
  {
   "cell_type": "markdown",
   "metadata": {},
   "source": [
    "* Many of the columns of missing values (no columns > 20% missing) \n",
    "* There are 5 integer columns and 15 string columns\n",
    "* dateCreated looks like it ends with 00:00:00 always\n",
    "* Car Names are really long and varied\n",
    "* `price` and `odometer` could be converted to numbers for more analysis\n",
    "* There are 3 columns of detailed datetimes and 2 columns of dates\n",
    "* The column names are camelCase"
   ]
  },
  {
   "cell_type": "code",
   "execution_count": 5,
   "metadata": {
    "ExecuteTime": {
     "end_time": "2018-09-28T06:43:45.991000Z",
     "start_time": "2018-09-28T06:43:45.988000Z"
    }
   },
   "outputs": [],
   "source": [
    "cols = autos.columns"
   ]
  },
  {
   "cell_type": "code",
   "execution_count": 6,
   "metadata": {
    "ExecuteTime": {
     "end_time": "2018-09-28T06:43:46.002000Z",
     "start_time": "2018-09-28T06:43:45.994000Z"
    }
   },
   "outputs": [
    {
     "data": {
      "text/plain": [
       "Index(['dateCrawled', 'name', 'seller', 'offerType', 'price', 'abtest',\n",
       "       'vehicleType', 'yearOfRegistration', 'gearbox', 'powerPS', 'model',\n",
       "       'odometer', 'monthOfRegistration', 'fuelType', 'brand',\n",
       "       'notRepairedDamage', 'dateCreated', 'nrOfPictures', 'postalCode',\n",
       "       'lastSeen'],\n",
       "      dtype='object')"
      ]
     },
     "execution_count": 6,
     "metadata": {},
     "output_type": "execute_result"
    }
   ],
   "source": [
    "cols"
   ]
  },
  {
   "cell_type": "code",
   "execution_count": 7,
   "metadata": {
    "ExecuteTime": {
     "end_time": "2018-09-28T06:43:46.013000Z",
     "start_time": "2018-09-28T06:43:46.004000Z"
    }
   },
   "outputs": [],
   "source": [
    "#Columns names replaced to improve readability and meaning\n",
    "autos.columns = (cols\n",
    "                 .str.replace('yearOfRegistration','registration_year')\n",
    "                 .str.replace('monthOfRegistration','registration_month')\n",
    "                 .str.replace('notRepairedDamage','unrepaired_damage')\n",
    "                 .str.replace('dateCreated','ad_created')\n",
    "                 .str.replace('nrOfPictures','num_photos')\n",
    "                )"
   ]
  },
  {
   "cell_type": "code",
   "execution_count": 8,
   "metadata": {
    "ExecuteTime": {
     "end_time": "2018-09-28T06:43:46.056000Z",
     "start_time": "2018-09-28T06:43:46.016000Z"
    }
   },
   "outputs": [
    {
     "data": {
      "text/html": [
       "<div>\n",
       "<style scoped>\n",
       "    .dataframe tbody tr th:only-of-type {\n",
       "        vertical-align: middle;\n",
       "    }\n",
       "\n",
       "    .dataframe tbody tr th {\n",
       "        vertical-align: top;\n",
       "    }\n",
       "\n",
       "    .dataframe thead th {\n",
       "        text-align: right;\n",
       "    }\n",
       "</style>\n",
       "<table border=\"1\" class=\"dataframe\">\n",
       "  <thead>\n",
       "    <tr style=\"text-align: right;\">\n",
       "      <th></th>\n",
       "      <th>dateCrawled</th>\n",
       "      <th>name</th>\n",
       "      <th>seller</th>\n",
       "      <th>offerType</th>\n",
       "      <th>price</th>\n",
       "      <th>abtest</th>\n",
       "      <th>vehicleType</th>\n",
       "      <th>registration_year</th>\n",
       "      <th>gearbox</th>\n",
       "      <th>powerPS</th>\n",
       "      <th>model</th>\n",
       "      <th>odometer</th>\n",
       "      <th>registration_month</th>\n",
       "      <th>fuelType</th>\n",
       "      <th>brand</th>\n",
       "      <th>unrepaired_damage</th>\n",
       "      <th>ad_created</th>\n",
       "      <th>num_photos</th>\n",
       "      <th>postalCode</th>\n",
       "      <th>lastSeen</th>\n",
       "    </tr>\n",
       "  </thead>\n",
       "  <tbody>\n",
       "    <tr>\n",
       "      <th>0</th>\n",
       "      <td>2016-03-26 17:47:46</td>\n",
       "      <td>Peugeot_807_160_NAVTECH_ON_BOARD</td>\n",
       "      <td>privat</td>\n",
       "      <td>Angebot</td>\n",
       "      <td>$5,000</td>\n",
       "      <td>control</td>\n",
       "      <td>bus</td>\n",
       "      <td>2004</td>\n",
       "      <td>manuell</td>\n",
       "      <td>158</td>\n",
       "      <td>andere</td>\n",
       "      <td>150,000km</td>\n",
       "      <td>3</td>\n",
       "      <td>lpg</td>\n",
       "      <td>peugeot</td>\n",
       "      <td>nein</td>\n",
       "      <td>2016-03-26 00:00:00</td>\n",
       "      <td>0</td>\n",
       "      <td>79588</td>\n",
       "      <td>2016-04-06 06:45:54</td>\n",
       "    </tr>\n",
       "    <tr>\n",
       "      <th>1</th>\n",
       "      <td>2016-04-04 13:38:56</td>\n",
       "      <td>BMW_740i_4_4_Liter_HAMANN_UMBAU_Mega_Optik</td>\n",
       "      <td>privat</td>\n",
       "      <td>Angebot</td>\n",
       "      <td>$8,500</td>\n",
       "      <td>control</td>\n",
       "      <td>limousine</td>\n",
       "      <td>1997</td>\n",
       "      <td>automatik</td>\n",
       "      <td>286</td>\n",
       "      <td>7er</td>\n",
       "      <td>150,000km</td>\n",
       "      <td>6</td>\n",
       "      <td>benzin</td>\n",
       "      <td>bmw</td>\n",
       "      <td>nein</td>\n",
       "      <td>2016-04-04 00:00:00</td>\n",
       "      <td>0</td>\n",
       "      <td>71034</td>\n",
       "      <td>2016-04-06 14:45:08</td>\n",
       "    </tr>\n",
       "    <tr>\n",
       "      <th>2</th>\n",
       "      <td>2016-03-26 18:57:24</td>\n",
       "      <td>Volkswagen_Golf_1.6_United</td>\n",
       "      <td>privat</td>\n",
       "      <td>Angebot</td>\n",
       "      <td>$8,990</td>\n",
       "      <td>test</td>\n",
       "      <td>limousine</td>\n",
       "      <td>2009</td>\n",
       "      <td>manuell</td>\n",
       "      <td>102</td>\n",
       "      <td>golf</td>\n",
       "      <td>70,000km</td>\n",
       "      <td>7</td>\n",
       "      <td>benzin</td>\n",
       "      <td>volkswagen</td>\n",
       "      <td>nein</td>\n",
       "      <td>2016-03-26 00:00:00</td>\n",
       "      <td>0</td>\n",
       "      <td>35394</td>\n",
       "      <td>2016-04-06 20:15:37</td>\n",
       "    </tr>\n",
       "    <tr>\n",
       "      <th>3</th>\n",
       "      <td>2016-03-12 16:58:10</td>\n",
       "      <td>Smart_smart_fortwo_coupe_softouch/F1/Klima/Pan...</td>\n",
       "      <td>privat</td>\n",
       "      <td>Angebot</td>\n",
       "      <td>$4,350</td>\n",
       "      <td>control</td>\n",
       "      <td>kleinwagen</td>\n",
       "      <td>2007</td>\n",
       "      <td>automatik</td>\n",
       "      <td>71</td>\n",
       "      <td>fortwo</td>\n",
       "      <td>70,000km</td>\n",
       "      <td>6</td>\n",
       "      <td>benzin</td>\n",
       "      <td>smart</td>\n",
       "      <td>nein</td>\n",
       "      <td>2016-03-12 00:00:00</td>\n",
       "      <td>0</td>\n",
       "      <td>33729</td>\n",
       "      <td>2016-03-15 03:16:28</td>\n",
       "    </tr>\n",
       "    <tr>\n",
       "      <th>4</th>\n",
       "      <td>2016-04-01 14:38:50</td>\n",
       "      <td>Ford_Focus_1_6_Benzin_TÜV_neu_ist_sehr_gepfleg...</td>\n",
       "      <td>privat</td>\n",
       "      <td>Angebot</td>\n",
       "      <td>$1,350</td>\n",
       "      <td>test</td>\n",
       "      <td>kombi</td>\n",
       "      <td>2003</td>\n",
       "      <td>manuell</td>\n",
       "      <td>0</td>\n",
       "      <td>focus</td>\n",
       "      <td>150,000km</td>\n",
       "      <td>7</td>\n",
       "      <td>benzin</td>\n",
       "      <td>ford</td>\n",
       "      <td>nein</td>\n",
       "      <td>2016-04-01 00:00:00</td>\n",
       "      <td>0</td>\n",
       "      <td>39218</td>\n",
       "      <td>2016-04-01 14:38:50</td>\n",
       "    </tr>\n",
       "  </tbody>\n",
       "</table>\n",
       "</div>"
      ],
      "text/plain": [
       "           dateCrawled                                               name  \\\n",
       "0  2016-03-26 17:47:46                   Peugeot_807_160_NAVTECH_ON_BOARD   \n",
       "1  2016-04-04 13:38:56         BMW_740i_4_4_Liter_HAMANN_UMBAU_Mega_Optik   \n",
       "2  2016-03-26 18:57:24                         Volkswagen_Golf_1.6_United   \n",
       "3  2016-03-12 16:58:10  Smart_smart_fortwo_coupe_softouch/F1/Klima/Pan...   \n",
       "4  2016-04-01 14:38:50  Ford_Focus_1_6_Benzin_TÜV_neu_ist_sehr_gepfleg...   \n",
       "\n",
       "   seller offerType   price   abtest vehicleType  registration_year  \\\n",
       "0  privat   Angebot  $5,000  control         bus               2004   \n",
       "1  privat   Angebot  $8,500  control   limousine               1997   \n",
       "2  privat   Angebot  $8,990     test   limousine               2009   \n",
       "3  privat   Angebot  $4,350  control  kleinwagen               2007   \n",
       "4  privat   Angebot  $1,350     test       kombi               2003   \n",
       "\n",
       "     gearbox  powerPS   model   odometer  registration_month fuelType  \\\n",
       "0    manuell      158  andere  150,000km                   3      lpg   \n",
       "1  automatik      286     7er  150,000km                   6   benzin   \n",
       "2    manuell      102    golf   70,000km                   7   benzin   \n",
       "3  automatik       71  fortwo   70,000km                   6   benzin   \n",
       "4    manuell        0   focus  150,000km                   7   benzin   \n",
       "\n",
       "        brand unrepaired_damage           ad_created  num_photos  postalCode  \\\n",
       "0     peugeot              nein  2016-03-26 00:00:00           0       79588   \n",
       "1         bmw              nein  2016-04-04 00:00:00           0       71034   \n",
       "2  volkswagen              nein  2016-03-26 00:00:00           0       35394   \n",
       "3       smart              nein  2016-03-12 00:00:00           0       33729   \n",
       "4        ford              nein  2016-04-01 00:00:00           0       39218   \n",
       "\n",
       "              lastSeen  \n",
       "0  2016-04-06 06:45:54  \n",
       "1  2016-04-06 14:45:08  \n",
       "2  2016-04-06 20:15:37  \n",
       "3  2016-03-15 03:16:28  \n",
       "4  2016-04-01 14:38:50  "
      ]
     },
     "execution_count": 8,
     "metadata": {},
     "output_type": "execute_result"
    }
   ],
   "source": [
    "autos.head()"
   ]
  },
  {
   "cell_type": "code",
   "execution_count": 9,
   "metadata": {
    "ExecuteTime": {
     "end_time": "2018-09-28T06:43:46.341000Z",
     "start_time": "2018-09-28T06:43:46.059000Z"
    }
   },
   "outputs": [
    {
     "data": {
      "text/html": [
       "<div>\n",
       "<style scoped>\n",
       "    .dataframe tbody tr th:only-of-type {\n",
       "        vertical-align: middle;\n",
       "    }\n",
       "\n",
       "    .dataframe tbody tr th {\n",
       "        vertical-align: top;\n",
       "    }\n",
       "\n",
       "    .dataframe thead th {\n",
       "        text-align: right;\n",
       "    }\n",
       "</style>\n",
       "<table border=\"1\" class=\"dataframe\">\n",
       "  <thead>\n",
       "    <tr style=\"text-align: right;\">\n",
       "      <th></th>\n",
       "      <th>dateCrawled</th>\n",
       "      <th>name</th>\n",
       "      <th>seller</th>\n",
       "      <th>offerType</th>\n",
       "      <th>price</th>\n",
       "      <th>abtest</th>\n",
       "      <th>vehicleType</th>\n",
       "      <th>registration_year</th>\n",
       "      <th>gearbox</th>\n",
       "      <th>powerPS</th>\n",
       "      <th>model</th>\n",
       "      <th>odometer</th>\n",
       "      <th>registration_month</th>\n",
       "      <th>fuelType</th>\n",
       "      <th>brand</th>\n",
       "      <th>unrepaired_damage</th>\n",
       "      <th>ad_created</th>\n",
       "      <th>num_photos</th>\n",
       "      <th>postalCode</th>\n",
       "      <th>lastSeen</th>\n",
       "    </tr>\n",
       "  </thead>\n",
       "  <tbody>\n",
       "    <tr>\n",
       "      <th>count</th>\n",
       "      <td>50000</td>\n",
       "      <td>50000</td>\n",
       "      <td>50000</td>\n",
       "      <td>50000</td>\n",
       "      <td>50000</td>\n",
       "      <td>50000</td>\n",
       "      <td>44905</td>\n",
       "      <td>50000.000000</td>\n",
       "      <td>47320</td>\n",
       "      <td>50000.000000</td>\n",
       "      <td>47242</td>\n",
       "      <td>50000</td>\n",
       "      <td>50000.000000</td>\n",
       "      <td>45518</td>\n",
       "      <td>50000</td>\n",
       "      <td>40171</td>\n",
       "      <td>50000</td>\n",
       "      <td>50000.0</td>\n",
       "      <td>50000.000000</td>\n",
       "      <td>50000</td>\n",
       "    </tr>\n",
       "    <tr>\n",
       "      <th>unique</th>\n",
       "      <td>48213</td>\n",
       "      <td>38754</td>\n",
       "      <td>2</td>\n",
       "      <td>2</td>\n",
       "      <td>2357</td>\n",
       "      <td>2</td>\n",
       "      <td>8</td>\n",
       "      <td>NaN</td>\n",
       "      <td>2</td>\n",
       "      <td>NaN</td>\n",
       "      <td>245</td>\n",
       "      <td>13</td>\n",
       "      <td>NaN</td>\n",
       "      <td>7</td>\n",
       "      <td>40</td>\n",
       "      <td>2</td>\n",
       "      <td>76</td>\n",
       "      <td>NaN</td>\n",
       "      <td>NaN</td>\n",
       "      <td>39481</td>\n",
       "    </tr>\n",
       "    <tr>\n",
       "      <th>top</th>\n",
       "      <td>2016-03-27 22:55:05</td>\n",
       "      <td>Ford_Fiesta</td>\n",
       "      <td>privat</td>\n",
       "      <td>Angebot</td>\n",
       "      <td>$0</td>\n",
       "      <td>test</td>\n",
       "      <td>limousine</td>\n",
       "      <td>NaN</td>\n",
       "      <td>manuell</td>\n",
       "      <td>NaN</td>\n",
       "      <td>golf</td>\n",
       "      <td>150,000km</td>\n",
       "      <td>NaN</td>\n",
       "      <td>benzin</td>\n",
       "      <td>volkswagen</td>\n",
       "      <td>nein</td>\n",
       "      <td>2016-04-03 00:00:00</td>\n",
       "      <td>NaN</td>\n",
       "      <td>NaN</td>\n",
       "      <td>2016-04-07 06:17:27</td>\n",
       "    </tr>\n",
       "    <tr>\n",
       "      <th>freq</th>\n",
       "      <td>3</td>\n",
       "      <td>78</td>\n",
       "      <td>49999</td>\n",
       "      <td>49999</td>\n",
       "      <td>1421</td>\n",
       "      <td>25756</td>\n",
       "      <td>12859</td>\n",
       "      <td>NaN</td>\n",
       "      <td>36993</td>\n",
       "      <td>NaN</td>\n",
       "      <td>4024</td>\n",
       "      <td>32424</td>\n",
       "      <td>NaN</td>\n",
       "      <td>30107</td>\n",
       "      <td>10687</td>\n",
       "      <td>35232</td>\n",
       "      <td>1946</td>\n",
       "      <td>NaN</td>\n",
       "      <td>NaN</td>\n",
       "      <td>8</td>\n",
       "    </tr>\n",
       "    <tr>\n",
       "      <th>mean</th>\n",
       "      <td>NaN</td>\n",
       "      <td>NaN</td>\n",
       "      <td>NaN</td>\n",
       "      <td>NaN</td>\n",
       "      <td>NaN</td>\n",
       "      <td>NaN</td>\n",
       "      <td>NaN</td>\n",
       "      <td>2005.073280</td>\n",
       "      <td>NaN</td>\n",
       "      <td>116.355920</td>\n",
       "      <td>NaN</td>\n",
       "      <td>NaN</td>\n",
       "      <td>5.723360</td>\n",
       "      <td>NaN</td>\n",
       "      <td>NaN</td>\n",
       "      <td>NaN</td>\n",
       "      <td>NaN</td>\n",
       "      <td>0.0</td>\n",
       "      <td>50813.627300</td>\n",
       "      <td>NaN</td>\n",
       "    </tr>\n",
       "    <tr>\n",
       "      <th>std</th>\n",
       "      <td>NaN</td>\n",
       "      <td>NaN</td>\n",
       "      <td>NaN</td>\n",
       "      <td>NaN</td>\n",
       "      <td>NaN</td>\n",
       "      <td>NaN</td>\n",
       "      <td>NaN</td>\n",
       "      <td>105.712813</td>\n",
       "      <td>NaN</td>\n",
       "      <td>209.216627</td>\n",
       "      <td>NaN</td>\n",
       "      <td>NaN</td>\n",
       "      <td>3.711984</td>\n",
       "      <td>NaN</td>\n",
       "      <td>NaN</td>\n",
       "      <td>NaN</td>\n",
       "      <td>NaN</td>\n",
       "      <td>0.0</td>\n",
       "      <td>25779.747957</td>\n",
       "      <td>NaN</td>\n",
       "    </tr>\n",
       "    <tr>\n",
       "      <th>min</th>\n",
       "      <td>NaN</td>\n",
       "      <td>NaN</td>\n",
       "      <td>NaN</td>\n",
       "      <td>NaN</td>\n",
       "      <td>NaN</td>\n",
       "      <td>NaN</td>\n",
       "      <td>NaN</td>\n",
       "      <td>1000.000000</td>\n",
       "      <td>NaN</td>\n",
       "      <td>0.000000</td>\n",
       "      <td>NaN</td>\n",
       "      <td>NaN</td>\n",
       "      <td>0.000000</td>\n",
       "      <td>NaN</td>\n",
       "      <td>NaN</td>\n",
       "      <td>NaN</td>\n",
       "      <td>NaN</td>\n",
       "      <td>0.0</td>\n",
       "      <td>1067.000000</td>\n",
       "      <td>NaN</td>\n",
       "    </tr>\n",
       "    <tr>\n",
       "      <th>25%</th>\n",
       "      <td>NaN</td>\n",
       "      <td>NaN</td>\n",
       "      <td>NaN</td>\n",
       "      <td>NaN</td>\n",
       "      <td>NaN</td>\n",
       "      <td>NaN</td>\n",
       "      <td>NaN</td>\n",
       "      <td>1999.000000</td>\n",
       "      <td>NaN</td>\n",
       "      <td>70.000000</td>\n",
       "      <td>NaN</td>\n",
       "      <td>NaN</td>\n",
       "      <td>3.000000</td>\n",
       "      <td>NaN</td>\n",
       "      <td>NaN</td>\n",
       "      <td>NaN</td>\n",
       "      <td>NaN</td>\n",
       "      <td>0.0</td>\n",
       "      <td>30451.000000</td>\n",
       "      <td>NaN</td>\n",
       "    </tr>\n",
       "    <tr>\n",
       "      <th>50%</th>\n",
       "      <td>NaN</td>\n",
       "      <td>NaN</td>\n",
       "      <td>NaN</td>\n",
       "      <td>NaN</td>\n",
       "      <td>NaN</td>\n",
       "      <td>NaN</td>\n",
       "      <td>NaN</td>\n",
       "      <td>2003.000000</td>\n",
       "      <td>NaN</td>\n",
       "      <td>105.000000</td>\n",
       "      <td>NaN</td>\n",
       "      <td>NaN</td>\n",
       "      <td>6.000000</td>\n",
       "      <td>NaN</td>\n",
       "      <td>NaN</td>\n",
       "      <td>NaN</td>\n",
       "      <td>NaN</td>\n",
       "      <td>0.0</td>\n",
       "      <td>49577.000000</td>\n",
       "      <td>NaN</td>\n",
       "    </tr>\n",
       "    <tr>\n",
       "      <th>75%</th>\n",
       "      <td>NaN</td>\n",
       "      <td>NaN</td>\n",
       "      <td>NaN</td>\n",
       "      <td>NaN</td>\n",
       "      <td>NaN</td>\n",
       "      <td>NaN</td>\n",
       "      <td>NaN</td>\n",
       "      <td>2008.000000</td>\n",
       "      <td>NaN</td>\n",
       "      <td>150.000000</td>\n",
       "      <td>NaN</td>\n",
       "      <td>NaN</td>\n",
       "      <td>9.000000</td>\n",
       "      <td>NaN</td>\n",
       "      <td>NaN</td>\n",
       "      <td>NaN</td>\n",
       "      <td>NaN</td>\n",
       "      <td>0.0</td>\n",
       "      <td>71540.000000</td>\n",
       "      <td>NaN</td>\n",
       "    </tr>\n",
       "    <tr>\n",
       "      <th>max</th>\n",
       "      <td>NaN</td>\n",
       "      <td>NaN</td>\n",
       "      <td>NaN</td>\n",
       "      <td>NaN</td>\n",
       "      <td>NaN</td>\n",
       "      <td>NaN</td>\n",
       "      <td>NaN</td>\n",
       "      <td>9999.000000</td>\n",
       "      <td>NaN</td>\n",
       "      <td>17700.000000</td>\n",
       "      <td>NaN</td>\n",
       "      <td>NaN</td>\n",
       "      <td>12.000000</td>\n",
       "      <td>NaN</td>\n",
       "      <td>NaN</td>\n",
       "      <td>NaN</td>\n",
       "      <td>NaN</td>\n",
       "      <td>0.0</td>\n",
       "      <td>99998.000000</td>\n",
       "      <td>NaN</td>\n",
       "    </tr>\n",
       "  </tbody>\n",
       "</table>\n",
       "</div>"
      ],
      "text/plain": [
       "                dateCrawled         name  seller offerType  price abtest  \\\n",
       "count                 50000        50000   50000     50000  50000  50000   \n",
       "unique                48213        38754       2         2   2357      2   \n",
       "top     2016-03-27 22:55:05  Ford_Fiesta  privat   Angebot     $0   test   \n",
       "freq                      3           78   49999     49999   1421  25756   \n",
       "mean                    NaN          NaN     NaN       NaN    NaN    NaN   \n",
       "std                     NaN          NaN     NaN       NaN    NaN    NaN   \n",
       "min                     NaN          NaN     NaN       NaN    NaN    NaN   \n",
       "25%                     NaN          NaN     NaN       NaN    NaN    NaN   \n",
       "50%                     NaN          NaN     NaN       NaN    NaN    NaN   \n",
       "75%                     NaN          NaN     NaN       NaN    NaN    NaN   \n",
       "max                     NaN          NaN     NaN       NaN    NaN    NaN   \n",
       "\n",
       "       vehicleType  registration_year  gearbox       powerPS  model  \\\n",
       "count        44905       50000.000000    47320  50000.000000  47242   \n",
       "unique           8                NaN        2           NaN    245   \n",
       "top      limousine                NaN  manuell           NaN   golf   \n",
       "freq         12859                NaN    36993           NaN   4024   \n",
       "mean           NaN        2005.073280      NaN    116.355920    NaN   \n",
       "std            NaN         105.712813      NaN    209.216627    NaN   \n",
       "min            NaN        1000.000000      NaN      0.000000    NaN   \n",
       "25%            NaN        1999.000000      NaN     70.000000    NaN   \n",
       "50%            NaN        2003.000000      NaN    105.000000    NaN   \n",
       "75%            NaN        2008.000000      NaN    150.000000    NaN   \n",
       "max            NaN        9999.000000      NaN  17700.000000    NaN   \n",
       "\n",
       "         odometer  registration_month fuelType       brand unrepaired_damage  \\\n",
       "count       50000        50000.000000    45518       50000             40171   \n",
       "unique         13                 NaN        7          40                 2   \n",
       "top     150,000km                 NaN   benzin  volkswagen              nein   \n",
       "freq        32424                 NaN    30107       10687             35232   \n",
       "mean          NaN            5.723360      NaN         NaN               NaN   \n",
       "std           NaN            3.711984      NaN         NaN               NaN   \n",
       "min           NaN            0.000000      NaN         NaN               NaN   \n",
       "25%           NaN            3.000000      NaN         NaN               NaN   \n",
       "50%           NaN            6.000000      NaN         NaN               NaN   \n",
       "75%           NaN            9.000000      NaN         NaN               NaN   \n",
       "max           NaN           12.000000      NaN         NaN               NaN   \n",
       "\n",
       "                 ad_created  num_photos    postalCode             lastSeen  \n",
       "count                 50000     50000.0  50000.000000                50000  \n",
       "unique                   76         NaN           NaN                39481  \n",
       "top     2016-04-03 00:00:00         NaN           NaN  2016-04-07 06:17:27  \n",
       "freq                   1946         NaN           NaN                    8  \n",
       "mean                    NaN         0.0  50813.627300                  NaN  \n",
       "std                     NaN         0.0  25779.747957                  NaN  \n",
       "min                     NaN         0.0   1067.000000                  NaN  \n",
       "25%                     NaN         0.0  30451.000000                  NaN  \n",
       "50%                     NaN         0.0  49577.000000                  NaN  \n",
       "75%                     NaN         0.0  71540.000000                  NaN  \n",
       "max                     NaN         0.0  99998.000000                  NaN  "
      ]
     },
     "execution_count": 9,
     "metadata": {},
     "output_type": "execute_result"
    }
   ],
   "source": [
    "autos.describe(include='all')"
   ]
  },
  {
   "cell_type": "markdown",
   "metadata": {
    "collapsed": true
   },
   "source": [
    "* Columns seller and offerType are almost all of the same value, they should be dropped\n",
    "* odometer and price are numeric data stored as string\n",
    "* num_photos has all 0 in descriptive stats, need more investigation"
   ]
  },
  {
   "cell_type": "code",
   "execution_count": 10,
   "metadata": {
    "ExecuteTime": {
     "end_time": "2018-09-28T06:43:46.360000Z",
     "start_time": "2018-09-28T06:43:46.343000Z"
    }
   },
   "outputs": [
    {
     "data": {
      "text/plain": [
       "0    50000\n",
       "Name: num_photos, dtype: int64"
      ]
     },
     "execution_count": 10,
     "metadata": {},
     "output_type": "execute_result"
    }
   ],
   "source": [
    "autos.num_photos.value_counts(dropna=False) #num_photos also has all the same values, should drop\n",
    "autos = autos.drop(['seller','offerType','num_photos'],axis=1)"
   ]
  },
  {
   "cell_type": "code",
   "execution_count": 11,
   "metadata": {
    "ExecuteTime": {
     "end_time": "2018-09-28T06:43:46.506000Z",
     "start_time": "2018-09-28T06:43:46.362000Z"
    },
    "scrolled": true
   },
   "outputs": [],
   "source": [
    "autos['price'] = (autos.price\n",
    "                        .str.replace('$','')\n",
    "                        .str.replace(',','')\n",
    "                        .astype(int) \n",
    "                 )\n",
    "autos['odometer'] = (autos.odometer\n",
    "                        .str.replace('km','')\n",
    "                        .str.replace(',','')\n",
    "                        .astype(int)\n",
    "                       )"
   ]
  },
  {
   "cell_type": "code",
   "execution_count": 12,
   "metadata": {
    "ExecuteTime": {
     "end_time": "2018-09-28T06:43:46.525000Z",
     "start_time": "2018-09-28T06:43:46.507000Z"
    }
   },
   "outputs": [],
   "source": [
    "autos = autos.rename({'odometer':'odometer_km'},axis = 1)"
   ]
  },
  {
   "cell_type": "markdown",
   "metadata": {},
   "source": [
    "# Exploring `price` and `odometer_km` columns "
   ]
  },
  {
   "cell_type": "code",
   "execution_count": 13,
   "metadata": {
    "ExecuteTime": {
     "end_time": "2018-09-28T06:43:46.570000Z",
     "start_time": "2018-09-28T06:43:46.527000Z"
    }
   },
   "outputs": [
    {
     "data": {
      "text/plain": [
       "(2357,)"
      ]
     },
     "execution_count": 13,
     "metadata": {},
     "output_type": "execute_result"
    },
    {
     "data": {
      "text/plain": [
       "(13,)"
      ]
     },
     "execution_count": 13,
     "metadata": {},
     "output_type": "execute_result"
    },
    {
     "data": {
      "text/html": [
       "<div>\n",
       "<style scoped>\n",
       "    .dataframe tbody tr th:only-of-type {\n",
       "        vertical-align: middle;\n",
       "    }\n",
       "\n",
       "    .dataframe tbody tr th {\n",
       "        vertical-align: top;\n",
       "    }\n",
       "\n",
       "    .dataframe thead th {\n",
       "        text-align: right;\n",
       "    }\n",
       "</style>\n",
       "<table border=\"1\" class=\"dataframe\">\n",
       "  <thead>\n",
       "    <tr style=\"text-align: right;\">\n",
       "      <th></th>\n",
       "      <th>price</th>\n",
       "      <th>odometer_km</th>\n",
       "    </tr>\n",
       "  </thead>\n",
       "  <tbody>\n",
       "    <tr>\n",
       "      <th>count</th>\n",
       "      <td>5.000000e+04</td>\n",
       "      <td>50000.000000</td>\n",
       "    </tr>\n",
       "    <tr>\n",
       "      <th>mean</th>\n",
       "      <td>9.840044e+03</td>\n",
       "      <td>125732.700000</td>\n",
       "    </tr>\n",
       "    <tr>\n",
       "      <th>std</th>\n",
       "      <td>4.811044e+05</td>\n",
       "      <td>40042.211706</td>\n",
       "    </tr>\n",
       "    <tr>\n",
       "      <th>min</th>\n",
       "      <td>0.000000e+00</td>\n",
       "      <td>5000.000000</td>\n",
       "    </tr>\n",
       "    <tr>\n",
       "      <th>25%</th>\n",
       "      <td>1.100000e+03</td>\n",
       "      <td>125000.000000</td>\n",
       "    </tr>\n",
       "    <tr>\n",
       "      <th>50%</th>\n",
       "      <td>2.950000e+03</td>\n",
       "      <td>150000.000000</td>\n",
       "    </tr>\n",
       "    <tr>\n",
       "      <th>75%</th>\n",
       "      <td>7.200000e+03</td>\n",
       "      <td>150000.000000</td>\n",
       "    </tr>\n",
       "    <tr>\n",
       "      <th>max</th>\n",
       "      <td>1.000000e+08</td>\n",
       "      <td>150000.000000</td>\n",
       "    </tr>\n",
       "  </tbody>\n",
       "</table>\n",
       "</div>"
      ],
      "text/plain": [
       "              price    odometer_km\n",
       "count  5.000000e+04   50000.000000\n",
       "mean   9.840044e+03  125732.700000\n",
       "std    4.811044e+05   40042.211706\n",
       "min    0.000000e+00    5000.000000\n",
       "25%    1.100000e+03  125000.000000\n",
       "50%    2.950000e+03  150000.000000\n",
       "75%    7.200000e+03  150000.000000\n",
       "max    1.000000e+08  150000.000000"
      ]
     },
     "execution_count": 13,
     "metadata": {},
     "output_type": "execute_result"
    }
   ],
   "source": [
    "autos.price.unique().shape    \n",
    "autos.odometer_km.unique().shape\n",
    "autos[['price','odometer_km']].describe()"
   ]
  },
  {
   "cell_type": "code",
   "execution_count": 14,
   "metadata": {
    "ExecuteTime": {
     "end_time": "2018-09-28T06:43:46.583000Z",
     "start_time": "2018-09-28T06:43:46.572000Z"
    }
   },
   "outputs": [
    {
     "data": {
      "text/plain": [
       "0           1421\n",
       "1            156\n",
       "2              3\n",
       "3              1\n",
       "5              2\n",
       "8              1\n",
       "9              1\n",
       "10             7\n",
       "11             2\n",
       "12             3\n",
       "13             2\n",
       "14             1\n",
       "15             2\n",
       "17             3\n",
       "18             1\n",
       "20             4\n",
       "25             5\n",
       "29             1\n",
       "30             7\n",
       "35             1\n",
       "40             6\n",
       "45             4\n",
       "47             1\n",
       "49             4\n",
       "50            49\n",
       "55             2\n",
       "59             1\n",
       "60             9\n",
       "65             5\n",
       "66             1\n",
       "            ... \n",
       "151990         1\n",
       "155000         1\n",
       "163500         1\n",
       "163991         1\n",
       "169000         1\n",
       "169999         1\n",
       "175000         1\n",
       "180000         1\n",
       "190000         1\n",
       "194000         1\n",
       "197000         1\n",
       "198000         1\n",
       "220000         1\n",
       "250000         1\n",
       "259000         1\n",
       "265000         1\n",
       "295000         1\n",
       "299000         1\n",
       "345000         1\n",
       "350000         1\n",
       "999990         1\n",
       "999999         2\n",
       "1234566        1\n",
       "1300000        1\n",
       "3890000        1\n",
       "10000000       1\n",
       "11111111       2\n",
       "12345678       3\n",
       "27322222       1\n",
       "99999999       1\n",
       "Name: price, Length: 2357, dtype: int64"
      ]
     },
     "execution_count": 14,
     "metadata": {},
     "output_type": "execute_result"
    }
   ],
   "source": [
    "autos.price.value_counts().sort_index()"
   ]
  },
  {
   "cell_type": "markdown",
   "metadata": {},
   "source": [
    "After 350,000 , the prices suddenly jump by 3 times to 999990, this and prices above look like outliers."
   ]
  },
  {
   "cell_type": "code",
   "execution_count": 15,
   "metadata": {
    "ExecuteTime": {
     "end_time": "2018-09-28T06:43:46.603000Z",
     "start_time": "2018-09-28T06:43:46.586000Z"
    }
   },
   "outputs": [],
   "source": [
    "autos = autos[autos.price.between(1,350000)]  #remove 0 prices too since they only occupy 3% of total rows"
   ]
  },
  {
   "cell_type": "code",
   "execution_count": 16,
   "metadata": {
    "ExecuteTime": {
     "end_time": "2018-09-28T06:43:46.612000Z",
     "start_time": "2018-09-28T06:43:46.605000Z"
    }
   },
   "outputs": [
    {
     "data": {
      "text/plain": [
       "5000        836\n",
       "10000       253\n",
       "20000       762\n",
       "30000       780\n",
       "40000       815\n",
       "50000      1012\n",
       "60000      1155\n",
       "70000      1217\n",
       "80000      1415\n",
       "90000      1734\n",
       "100000     2115\n",
       "125000     5057\n",
       "150000    31414\n",
       "Name: odometer_km, dtype: int64"
      ]
     },
     "execution_count": 16,
     "metadata": {},
     "output_type": "execute_result"
    }
   ],
   "source": [
    "autos.odometer_km.value_counts().sort_index()  \n",
    "# neatly rounded options suggest preset options for sellers\n",
    "# most cars are high mileage"
   ]
  },
  {
   "cell_type": "markdown",
   "metadata": {},
   "source": [
    "# Exploring Dates"
   ]
  },
  {
   "cell_type": "markdown",
   "metadata": {},
   "source": [
    "__From Crawler:__\n",
    "* date_crawled\n",
    "* last_seen\n",
    "\n",
    "__From Website:__\n",
    "* ad_created\n",
    "* registration_month\n",
    "* registration_year"
   ]
  },
  {
   "cell_type": "code",
   "execution_count": 17,
   "metadata": {
    "ExecuteTime": {
     "end_time": "2018-09-28T06:43:46.729000Z",
     "start_time": "2018-09-28T06:43:46.613000Z"
    }
   },
   "outputs": [
    {
     "data": {
      "text/plain": [
       "2016-03-05    0.025327\n",
       "2016-03-06    0.014043\n",
       "2016-03-07    0.036014\n",
       "2016-03-08    0.033296\n",
       "2016-03-09    0.033090\n",
       "2016-03-10    0.032184\n",
       "2016-03-11    0.032575\n",
       "2016-03-12    0.036920\n",
       "2016-03-13    0.015670\n",
       "2016-03-14    0.036549\n",
       "2016-03-15    0.034284\n",
       "2016-03-16    0.029610\n",
       "2016-03-17    0.031628\n",
       "2016-03-18    0.012911\n",
       "2016-03-19    0.034778\n",
       "2016-03-20    0.037887\n",
       "2016-03-21    0.037373\n",
       "2016-03-22    0.032987\n",
       "2016-03-23    0.032225\n",
       "2016-03-24    0.029342\n",
       "2016-03-25    0.031607\n",
       "2016-03-26    0.032204\n",
       "2016-03-27    0.031092\n",
       "2016-03-28    0.034860\n",
       "2016-03-29    0.034099\n",
       "2016-03-30    0.033687\n",
       "2016-03-31    0.031834\n",
       "2016-04-01    0.033687\n",
       "2016-04-02    0.035478\n",
       "2016-04-03    0.038608\n",
       "2016-04-04    0.036487\n",
       "2016-04-05    0.013096\n",
       "2016-04-06    0.003171\n",
       "2016-04-07    0.001400\n",
       "Name: dateCrawled, dtype: float64"
      ]
     },
     "execution_count": 17,
     "metadata": {},
     "output_type": "execute_result"
    }
   ],
   "source": [
    "autos['dateCrawled'].str[:10].value_counts(normalize=True, dropna=False).sort_index()\n"
   ]
  },
  {
   "cell_type": "markdown",
   "metadata": {},
   "source": [
    "Number of listings crawled suddenly dropped by 4-10x on 2016-4-06 and  2016-4-07"
   ]
  },
  {
   "cell_type": "code",
   "execution_count": 18,
   "metadata": {
    "ExecuteTime": {
     "end_time": "2018-09-28T06:43:46.761000Z",
     "start_time": "2018-09-28T06:43:46.731000Z"
    }
   },
   "outputs": [
    {
     "data": {
      "text/plain": [
       "2016-03-05    0.001071\n",
       "2016-03-06    0.004324\n",
       "2016-03-07    0.005395\n",
       "2016-03-08    0.007413\n",
       "2016-03-09    0.009595\n",
       "2016-03-10    0.010666\n",
       "2016-03-11    0.012375\n",
       "2016-03-12    0.023783\n",
       "2016-03-13    0.008895\n",
       "2016-03-14    0.012602\n",
       "2016-03-15    0.015876\n",
       "2016-03-16    0.016452\n",
       "2016-03-17    0.028086\n",
       "2016-03-18    0.007351\n",
       "2016-03-19    0.015834\n",
       "2016-03-20    0.020653\n",
       "2016-03-21    0.020632\n",
       "2016-03-22    0.021373\n",
       "2016-03-23    0.018532\n",
       "2016-03-24    0.019767\n",
       "2016-03-25    0.019211\n",
       "2016-03-26    0.016802\n",
       "2016-03-27    0.015649\n",
       "2016-03-28    0.020859\n",
       "2016-03-29    0.022341\n",
       "2016-03-30    0.024771\n",
       "2016-03-31    0.023783\n",
       "2016-04-01    0.022794\n",
       "2016-04-02    0.024915\n",
       "2016-04-03    0.025203\n",
       "2016-04-04    0.024483\n",
       "2016-04-05    0.124761\n",
       "2016-04-06    0.221806\n",
       "2016-04-07    0.131947\n",
       "Name: lastSeen, dtype: float64"
      ]
     },
     "execution_count": 18,
     "metadata": {},
     "output_type": "execute_result"
    }
   ],
   "source": [
    "autos['lastSeen'].str[:10].value_counts(normalize=True, dropna=False).sort_index()\n"
   ]
  },
  {
   "cell_type": "markdown",
   "metadata": {},
   "source": [
    "* last seen allows us to infer which date the listing is removed.  \n",
    "* 48% of the last seen pages were on 2016-04-05 to 2016-04-07, may be related to crawling period ending"
   ]
  },
  {
   "cell_type": "code",
   "execution_count": 19,
   "metadata": {
    "ExecuteTime": {
     "end_time": "2018-09-28T06:43:46.967000Z",
     "start_time": "2018-09-28T06:43:46.764000Z"
    }
   },
   "outputs": [
    {
     "data": {
      "text/plain": [
       "2015-06-11    0.000021\n",
       "2015-08-10    0.000021\n",
       "2015-09-09    0.000021\n",
       "2015-11-10    0.000021\n",
       "2015-12-05    0.000021\n",
       "2015-12-30    0.000021\n",
       "2016-01-03    0.000021\n",
       "2016-01-07    0.000021\n",
       "2016-01-10    0.000041\n",
       "2016-01-13    0.000021\n",
       "2016-01-14    0.000021\n",
       "2016-01-16    0.000021\n",
       "2016-01-22    0.000021\n",
       "2016-01-27    0.000062\n",
       "2016-01-29    0.000021\n",
       "2016-02-01    0.000021\n",
       "2016-02-02    0.000041\n",
       "2016-02-05    0.000041\n",
       "2016-02-07    0.000021\n",
       "2016-02-08    0.000021\n",
       "2016-02-09    0.000021\n",
       "2016-02-11    0.000021\n",
       "2016-02-12    0.000041\n",
       "2016-02-14    0.000041\n",
       "2016-02-16    0.000021\n",
       "2016-02-17    0.000021\n",
       "2016-02-18    0.000041\n",
       "2016-02-19    0.000062\n",
       "2016-02-20    0.000041\n",
       "2016-02-21    0.000062\n",
       "                ...   \n",
       "2016-03-09    0.033151\n",
       "2016-03-10    0.031895\n",
       "2016-03-11    0.032904\n",
       "2016-03-12    0.036755\n",
       "2016-03-13    0.017008\n",
       "2016-03-14    0.035190\n",
       "2016-03-15    0.034016\n",
       "2016-03-16    0.030125\n",
       "2016-03-17    0.031278\n",
       "2016-03-18    0.013590\n",
       "2016-03-19    0.033687\n",
       "2016-03-20    0.037949\n",
       "2016-03-21    0.037579\n",
       "2016-03-22    0.032801\n",
       "2016-03-23    0.032060\n",
       "2016-03-24    0.029280\n",
       "2016-03-25    0.031751\n",
       "2016-03-26    0.032266\n",
       "2016-03-27    0.030989\n",
       "2016-03-28    0.034984\n",
       "2016-03-29    0.034037\n",
       "2016-03-30    0.033501\n",
       "2016-03-31    0.031875\n",
       "2016-04-01    0.033687\n",
       "2016-04-02    0.035149\n",
       "2016-04-03    0.038855\n",
       "2016-04-04    0.036858\n",
       "2016-04-05    0.011819\n",
       "2016-04-06    0.003253\n",
       "2016-04-07    0.001256\n",
       "Name: ad_created, Length: 76, dtype: float64"
      ]
     },
     "execution_count": 19,
     "metadata": {},
     "output_type": "execute_result"
    },
    {
     "data": {
      "text/plain": [
       "<matplotlib.axes._subplots.AxesSubplot at 0x9a26b70>"
      ]
     },
     "execution_count": 19,
     "metadata": {},
     "output_type": "execute_result"
    },
    {
     "data": {
      "image/png": "[encoded data removed]",
      "text/plain": [
       "<Figure size 432x288 with 1 Axes>"
      ]
     },
     "metadata": {},
     "output_type": "display_data"
    }
   ],
   "source": [
    "temp = autos['ad_created'].str[:10].value_counts(normalize=True, dropna=False).sort_index()\n",
    "temp\n",
    "temp.plot()"
   ]
  },
  {
   "cell_type": "markdown",
   "metadata": {},
   "source": [
    "The date range of ad_created is much larger, going back to 2015-06-11, much more (500x) ads are created after 2016-03-09 than before 2016-02-21. To refine the cutoff, more detailed filtering of rows is required"
   ]
  },
  {
   "cell_type": "code",
   "execution_count": 20,
   "metadata": {
    "ExecuteTime": {
     "end_time": "2018-09-28T06:43:46.975000Z",
     "start_time": "2018-09-28T06:43:46.968000Z"
    }
   },
   "outputs": [
    {
     "data": {
      "text/plain": [
       "2016-02-21    0.000062\n",
       "2016-02-22    0.000021\n",
       "2016-02-23    0.000082\n",
       "2016-02-24    0.000041\n",
       "2016-02-25    0.000062\n",
       "2016-02-26    0.000041\n",
       "2016-02-27    0.000124\n",
       "2016-02-28    0.000206\n",
       "2016-02-29    0.000165\n",
       "2016-03-01    0.000103\n",
       "2016-03-02    0.000103\n",
       "2016-03-03    0.000865\n",
       "2016-03-04    0.001483\n",
       "2016-03-05    0.022897\n",
       "2016-03-06    0.015320\n",
       "2016-03-07    0.034737\n",
       "2016-03-08    0.033316\n",
       "2016-03-09    0.033151\n",
       "Name: ad_created, dtype: float64"
      ]
     },
     "execution_count": 20,
     "metadata": {},
     "output_type": "execute_result"
    }
   ],
   "source": [
    "mask = pd.Series(temp.index).between('2016-02-21','2016-03-09')\n",
    "temp[np.array(mask)] #array to avoid IndexingError: Unalignable boolean Series provided as indexer\n"
   ]
  },
  {
   "cell_type": "markdown",
   "metadata": {},
   "source": [
    "Now we can see the exact date where ad_created suddenly increased is 2016-03-05. EBay might have had some promotion that day"
   ]
  },
  {
   "cell_type": "code",
   "execution_count": 21,
   "metadata": {
    "ExecuteTime": {
     "end_time": "2018-09-28T06:43:47.013000Z",
     "start_time": "2018-09-28T06:43:46.976000Z"
    }
   },
   "outputs": [
    {
     "data": {
      "text/html": [
       "<div>\n",
       "<style scoped>\n",
       "    .dataframe tbody tr th:only-of-type {\n",
       "        vertical-align: middle;\n",
       "    }\n",
       "\n",
       "    .dataframe tbody tr th {\n",
       "        vertical-align: top;\n",
       "    }\n",
       "\n",
       "    .dataframe thead th {\n",
       "        text-align: right;\n",
       "    }\n",
       "</style>\n",
       "<table border=\"1\" class=\"dataframe\">\n",
       "  <thead>\n",
       "    <tr style=\"text-align: right;\">\n",
       "      <th></th>\n",
       "      <th>ad_created</th>\n",
       "      <th>dateCrawled</th>\n",
       "      <th>lastSeen</th>\n",
       "    </tr>\n",
       "  </thead>\n",
       "  <tbody>\n",
       "    <tr>\n",
       "      <th>0</th>\n",
       "      <td>2016-03-26 00:00:00</td>\n",
       "      <td>2016-03-26 17:47:46</td>\n",
       "      <td>2016-04-06 06:45:54</td>\n",
       "    </tr>\n",
       "    <tr>\n",
       "      <th>1</th>\n",
       "      <td>2016-04-04 00:00:00</td>\n",
       "      <td>2016-04-04 13:38:56</td>\n",
       "      <td>2016-04-06 14:45:08</td>\n",
       "    </tr>\n",
       "    <tr>\n",
       "      <th>2</th>\n",
       "      <td>2016-03-26 00:00:00</td>\n",
       "      <td>2016-03-26 18:57:24</td>\n",
       "      <td>2016-04-06 20:15:37</td>\n",
       "    </tr>\n",
       "    <tr>\n",
       "      <th>3</th>\n",
       "      <td>2016-03-12 00:00:00</td>\n",
       "      <td>2016-03-12 16:58:10</td>\n",
       "      <td>2016-03-15 03:16:28</td>\n",
       "    </tr>\n",
       "    <tr>\n",
       "      <th>4</th>\n",
       "      <td>2016-04-01 00:00:00</td>\n",
       "      <td>2016-04-01 14:38:50</td>\n",
       "      <td>2016-04-01 14:38:50</td>\n",
       "    </tr>\n",
       "    <tr>\n",
       "      <th>5</th>\n",
       "      <td>2016-03-21 00:00:00</td>\n",
       "      <td>2016-03-21 13:47:45</td>\n",
       "      <td>2016-04-06 09:45:21</td>\n",
       "    </tr>\n",
       "    <tr>\n",
       "      <th>6</th>\n",
       "      <td>2016-03-20 00:00:00</td>\n",
       "      <td>2016-03-20 17:55:21</td>\n",
       "      <td>2016-03-23 02:48:59</td>\n",
       "    </tr>\n",
       "    <tr>\n",
       "      <th>7</th>\n",
       "      <td>2016-03-16 00:00:00</td>\n",
       "      <td>2016-03-16 18:55:19</td>\n",
       "      <td>2016-04-07 03:17:32</td>\n",
       "    </tr>\n",
       "    <tr>\n",
       "      <th>8</th>\n",
       "      <td>2016-03-22 00:00:00</td>\n",
       "      <td>2016-03-22 16:51:34</td>\n",
       "      <td>2016-03-26 18:18:10</td>\n",
       "    </tr>\n",
       "    <tr>\n",
       "      <th>9</th>\n",
       "      <td>2016-03-16 00:00:00</td>\n",
       "      <td>2016-03-16 13:47:02</td>\n",
       "      <td>2016-04-06 10:46:35</td>\n",
       "    </tr>\n",
       "    <tr>\n",
       "      <th>10</th>\n",
       "      <td>2016-03-14 00:00:00</td>\n",
       "      <td>2016-03-15 01:41:36</td>\n",
       "      <td>2016-04-07 03:16:21</td>\n",
       "    </tr>\n",
       "    <tr>\n",
       "      <th>11</th>\n",
       "      <td>2016-03-16 00:00:00</td>\n",
       "      <td>2016-03-16 18:45:34</td>\n",
       "      <td>2016-03-16 18:45:34</td>\n",
       "    </tr>\n",
       "    <tr>\n",
       "      <th>12</th>\n",
       "      <td>2016-03-31 00:00:00</td>\n",
       "      <td>2016-03-31 19:48:22</td>\n",
       "      <td>2016-04-06 14:17:52</td>\n",
       "    </tr>\n",
       "    <tr>\n",
       "      <th>13</th>\n",
       "      <td>2016-03-23 00:00:00</td>\n",
       "      <td>2016-03-23 10:48:32</td>\n",
       "      <td>2016-04-01 14:17:13</td>\n",
       "    </tr>\n",
       "    <tr>\n",
       "      <th>14</th>\n",
       "      <td>2016-03-23 00:00:00</td>\n",
       "      <td>2016-03-23 11:50:46</td>\n",
       "      <td>2016-04-01 15:46:47</td>\n",
       "    </tr>\n",
       "    <tr>\n",
       "      <th>15</th>\n",
       "      <td>2016-04-01 00:00:00</td>\n",
       "      <td>2016-04-01 12:06:20</td>\n",
       "      <td>2016-04-02 21:10:48</td>\n",
       "    </tr>\n",
       "    <tr>\n",
       "      <th>16</th>\n",
       "      <td>2016-03-16 00:00:00</td>\n",
       "      <td>2016-03-16 14:59:02</td>\n",
       "      <td>2016-03-18 05:29:37</td>\n",
       "    </tr>\n",
       "    <tr>\n",
       "      <th>17</th>\n",
       "      <td>2016-03-29 00:00:00</td>\n",
       "      <td>2016-03-29 11:46:22</td>\n",
       "      <td>2016-04-05 20:46:26</td>\n",
       "    </tr>\n",
       "    <tr>\n",
       "      <th>18</th>\n",
       "      <td>2016-03-26 00:00:00</td>\n",
       "      <td>2016-03-26 19:57:44</td>\n",
       "      <td>2016-04-02 12:16:41</td>\n",
       "    </tr>\n",
       "    <tr>\n",
       "      <th>19</th>\n",
       "      <td>2016-03-17 00:00:00</td>\n",
       "      <td>2016-03-17 13:36:21</td>\n",
       "      <td>2016-03-17 14:45:58</td>\n",
       "    </tr>\n",
       "    <tr>\n",
       "      <th>20</th>\n",
       "      <td>2016-03-05 00:00:00</td>\n",
       "      <td>2016-03-05 19:57:31</td>\n",
       "      <td>2016-03-07 05:46:46</td>\n",
       "    </tr>\n",
       "    <tr>\n",
       "      <th>21</th>\n",
       "      <td>2016-03-06 00:00:00</td>\n",
       "      <td>2016-03-06 19:07:10</td>\n",
       "      <td>2016-04-05 23:46:19</td>\n",
       "    </tr>\n",
       "    <tr>\n",
       "      <th>22</th>\n",
       "      <td>2016-03-28 00:00:00</td>\n",
       "      <td>2016-03-28 20:50:54</td>\n",
       "      <td>2016-04-01 06:45:30</td>\n",
       "    </tr>\n",
       "    <tr>\n",
       "      <th>23</th>\n",
       "      <td>2016-03-10 00:00:00</td>\n",
       "      <td>2016-03-10 19:55:34</td>\n",
       "      <td>2016-03-17 08:45:17</td>\n",
       "    </tr>\n",
       "    <tr>\n",
       "      <th>24</th>\n",
       "      <td>2016-04-03 00:00:00</td>\n",
       "      <td>2016-04-03 11:57:02</td>\n",
       "      <td>2016-04-07 13:16:50</td>\n",
       "    </tr>\n",
       "    <tr>\n",
       "      <th>25</th>\n",
       "      <td>2016-03-21 00:00:00</td>\n",
       "      <td>2016-03-21 21:56:18</td>\n",
       "      <td>2016-04-01 05:16:49</td>\n",
       "    </tr>\n",
       "    <tr>\n",
       "      <th>26</th>\n",
       "      <td>2016-04-03 00:00:00</td>\n",
       "      <td>2016-04-03 22:46:28</td>\n",
       "      <td>2016-04-05 23:46:48</td>\n",
       "    </tr>\n",
       "    <tr>\n",
       "      <th>28</th>\n",
       "      <td>2016-03-19 00:00:00</td>\n",
       "      <td>2016-03-19 21:56:19</td>\n",
       "      <td>2016-04-07 14:58:48</td>\n",
       "    </tr>\n",
       "    <tr>\n",
       "      <th>29</th>\n",
       "      <td>2016-04-02 00:00:00</td>\n",
       "      <td>2016-04-02 12:45:44</td>\n",
       "      <td>2016-04-02 12:45:44</td>\n",
       "    </tr>\n",
       "    <tr>\n",
       "      <th>30</th>\n",
       "      <td>2016-03-14 00:00:00</td>\n",
       "      <td>2016-03-14 11:47:31</td>\n",
       "      <td>2016-03-14 11:47:31</td>\n",
       "    </tr>\n",
       "    <tr>\n",
       "      <th>...</th>\n",
       "      <td>...</td>\n",
       "      <td>...</td>\n",
       "      <td>...</td>\n",
       "    </tr>\n",
       "    <tr>\n",
       "      <th>49968</th>\n",
       "      <td>2016-04-01 00:00:00</td>\n",
       "      <td>2016-04-01 17:49:15</td>\n",
       "      <td>2016-04-05 13:16:35</td>\n",
       "    </tr>\n",
       "    <tr>\n",
       "      <th>49969</th>\n",
       "      <td>2016-03-17 00:00:00</td>\n",
       "      <td>2016-03-17 18:49:02</td>\n",
       "      <td>2016-03-25 23:18:15</td>\n",
       "    </tr>\n",
       "    <tr>\n",
       "      <th>49970</th>\n",
       "      <td>2016-03-21 00:00:00</td>\n",
       "      <td>2016-03-21 22:47:37</td>\n",
       "      <td>2016-04-07 04:17:34</td>\n",
       "    </tr>\n",
       "    <tr>\n",
       "      <th>49971</th>\n",
       "      <td>2016-03-29 00:00:00</td>\n",
       "      <td>2016-03-29 14:54:12</td>\n",
       "      <td>2016-03-29 20:41:51</td>\n",
       "    </tr>\n",
       "    <tr>\n",
       "      <th>49972</th>\n",
       "      <td>2016-03-26 00:00:00</td>\n",
       "      <td>2016-03-26 22:25:23</td>\n",
       "      <td>2016-03-28 11:28:18</td>\n",
       "    </tr>\n",
       "    <tr>\n",
       "      <th>49973</th>\n",
       "      <td>2016-03-27 00:00:00</td>\n",
       "      <td>2016-03-27 05:32:39</td>\n",
       "      <td>2016-03-27 08:25:24</td>\n",
       "    </tr>\n",
       "    <tr>\n",
       "      <th>49975</th>\n",
       "      <td>2016-03-27 00:00:00</td>\n",
       "      <td>2016-03-27 20:51:39</td>\n",
       "      <td>2016-04-05 19:45:34</td>\n",
       "    </tr>\n",
       "    <tr>\n",
       "      <th>49976</th>\n",
       "      <td>2016-03-19 00:00:00</td>\n",
       "      <td>2016-03-19 18:56:05</td>\n",
       "      <td>2016-04-07 06:16:44</td>\n",
       "    </tr>\n",
       "    <tr>\n",
       "      <th>49977</th>\n",
       "      <td>2016-03-31 00:00:00</td>\n",
       "      <td>2016-03-31 18:37:18</td>\n",
       "      <td>2016-04-06 12:16:11</td>\n",
       "    </tr>\n",
       "    <tr>\n",
       "      <th>49978</th>\n",
       "      <td>2016-04-04 00:00:00</td>\n",
       "      <td>2016-04-04 10:37:14</td>\n",
       "      <td>2016-04-06 12:44:20</td>\n",
       "    </tr>\n",
       "    <tr>\n",
       "      <th>49979</th>\n",
       "      <td>2016-03-20 00:00:00</td>\n",
       "      <td>2016-03-20 18:38:40</td>\n",
       "      <td>2016-04-07 01:45:12</td>\n",
       "    </tr>\n",
       "    <tr>\n",
       "      <th>49980</th>\n",
       "      <td>2016-03-12 00:00:00</td>\n",
       "      <td>2016-03-12 10:55:54</td>\n",
       "      <td>2016-04-06 17:16:49</td>\n",
       "    </tr>\n",
       "    <tr>\n",
       "      <th>49981</th>\n",
       "      <td>2016-03-15 00:00:00</td>\n",
       "      <td>2016-03-15 09:38:21</td>\n",
       "      <td>2016-04-05 17:21:46</td>\n",
       "    </tr>\n",
       "    <tr>\n",
       "      <th>49982</th>\n",
       "      <td>2016-03-29 00:00:00</td>\n",
       "      <td>2016-03-29 18:51:08</td>\n",
       "      <td>2016-03-29 18:51:08</td>\n",
       "    </tr>\n",
       "    <tr>\n",
       "      <th>49983</th>\n",
       "      <td>2016-03-06 00:00:00</td>\n",
       "      <td>2016-03-06 12:43:04</td>\n",
       "      <td>2016-03-09 06:16:08</td>\n",
       "    </tr>\n",
       "    <tr>\n",
       "      <th>49985</th>\n",
       "      <td>2016-04-02 00:00:00</td>\n",
       "      <td>2016-04-02 16:38:23</td>\n",
       "      <td>2016-04-06 15:17:52</td>\n",
       "    </tr>\n",
       "    <tr>\n",
       "      <th>49986</th>\n",
       "      <td>2016-04-04 00:00:00</td>\n",
       "      <td>2016-04-04 20:46:02</td>\n",
       "      <td>2016-04-06 23:16:00</td>\n",
       "    </tr>\n",
       "    <tr>\n",
       "      <th>49987</th>\n",
       "      <td>2016-03-22 00:00:00</td>\n",
       "      <td>2016-03-22 20:47:27</td>\n",
       "      <td>2016-03-26 22:46:06</td>\n",
       "    </tr>\n",
       "    <tr>\n",
       "      <th>49988</th>\n",
       "      <td>2016-03-28 00:00:00</td>\n",
       "      <td>2016-03-28 19:49:51</td>\n",
       "      <td>2016-04-07 02:17:40</td>\n",
       "    </tr>\n",
       "    <tr>\n",
       "      <th>49989</th>\n",
       "      <td>2016-03-11 00:00:00</td>\n",
       "      <td>2016-03-11 19:50:37</td>\n",
       "      <td>2016-03-12 10:17:55</td>\n",
       "    </tr>\n",
       "    <tr>\n",
       "      <th>49990</th>\n",
       "      <td>2016-03-21 00:00:00</td>\n",
       "      <td>2016-03-21 19:54:19</td>\n",
       "      <td>2016-04-06 22:46:57</td>\n",
       "    </tr>\n",
       "    <tr>\n",
       "      <th>49991</th>\n",
       "      <td>2016-03-06 00:00:00</td>\n",
       "      <td>2016-03-06 15:25:19</td>\n",
       "      <td>2016-03-06 18:24:19</td>\n",
       "    </tr>\n",
       "    <tr>\n",
       "      <th>49992</th>\n",
       "      <td>2016-03-10 00:00:00</td>\n",
       "      <td>2016-03-10 19:37:38</td>\n",
       "      <td>2016-03-13 01:44:51</td>\n",
       "    </tr>\n",
       "    <tr>\n",
       "      <th>49993</th>\n",
       "      <td>2016-03-15 00:00:00</td>\n",
       "      <td>2016-03-15 18:47:35</td>\n",
       "      <td>2016-04-06 19:46:53</td>\n",
       "    </tr>\n",
       "    <tr>\n",
       "      <th>49994</th>\n",
       "      <td>2016-03-22 00:00:00</td>\n",
       "      <td>2016-03-22 17:36:42</td>\n",
       "      <td>2016-04-06 08:16:39</td>\n",
       "    </tr>\n",
       "    <tr>\n",
       "      <th>49995</th>\n",
       "      <td>2016-03-27 00:00:00</td>\n",
       "      <td>2016-03-27 14:38:19</td>\n",
       "      <td>2016-04-01 13:47:40</td>\n",
       "    </tr>\n",
       "    <tr>\n",
       "      <th>49996</th>\n",
       "      <td>2016-03-28 00:00:00</td>\n",
       "      <td>2016-03-28 10:50:25</td>\n",
       "      <td>2016-04-02 14:18:02</td>\n",
       "    </tr>\n",
       "    <tr>\n",
       "      <th>49997</th>\n",
       "      <td>2016-04-02 00:00:00</td>\n",
       "      <td>2016-04-02 14:44:48</td>\n",
       "      <td>2016-04-04 11:47:27</td>\n",
       "    </tr>\n",
       "    <tr>\n",
       "      <th>49998</th>\n",
       "      <td>2016-03-08 00:00:00</td>\n",
       "      <td>2016-03-08 19:25:42</td>\n",
       "      <td>2016-04-05 16:45:07</td>\n",
       "    </tr>\n",
       "    <tr>\n",
       "      <th>49999</th>\n",
       "      <td>2016-03-13 00:00:00</td>\n",
       "      <td>2016-03-14 00:42:12</td>\n",
       "      <td>2016-04-06 21:18:48</td>\n",
       "    </tr>\n",
       "  </tbody>\n",
       "</table>\n",
       "<p>48565 rows × 3 columns</p>\n",
       "</div>"
      ],
      "text/plain": [
       "                ad_created          dateCrawled             lastSeen\n",
       "0      2016-03-26 00:00:00  2016-03-26 17:47:46  2016-04-06 06:45:54\n",
       "1      2016-04-04 00:00:00  2016-04-04 13:38:56  2016-04-06 14:45:08\n",
       "2      2016-03-26 00:00:00  2016-03-26 18:57:24  2016-04-06 20:15:37\n",
       "3      2016-03-12 00:00:00  2016-03-12 16:58:10  2016-03-15 03:16:28\n",
       "4      2016-04-01 00:00:00  2016-04-01 14:38:50  2016-04-01 14:38:50\n",
       "5      2016-03-21 00:00:00  2016-03-21 13:47:45  2016-04-06 09:45:21\n",
       "6      2016-03-20 00:00:00  2016-03-20 17:55:21  2016-03-23 02:48:59\n",
       "7      2016-03-16 00:00:00  2016-03-16 18:55:19  2016-04-07 03:17:32\n",
       "8      2016-03-22 00:00:00  2016-03-22 16:51:34  2016-03-26 18:18:10\n",
       "9      2016-03-16 00:00:00  2016-03-16 13:47:02  2016-04-06 10:46:35\n",
       "10     2016-03-14 00:00:00  2016-03-15 01:41:36  2016-04-07 03:16:21\n",
       "11     2016-03-16 00:00:00  2016-03-16 18:45:34  2016-03-16 18:45:34\n",
       "12     2016-03-31 00:00:00  2016-03-31 19:48:22  2016-04-06 14:17:52\n",
       "13     2016-03-23 00:00:00  2016-03-23 10:48:32  2016-04-01 14:17:13\n",
       "14     2016-03-23 00:00:00  2016-03-23 11:50:46  2016-04-01 15:46:47\n",
       "15     2016-04-01 00:00:00  2016-04-01 12:06:20  2016-04-02 21:10:48\n",
       "16     2016-03-16 00:00:00  2016-03-16 14:59:02  2016-03-18 05:29:37\n",
       "17     2016-03-29 00:00:00  2016-03-29 11:46:22  2016-04-05 20:46:26\n",
       "18     2016-03-26 00:00:00  2016-03-26 19:57:44  2016-04-02 12:16:41\n",
       "19     2016-03-17 00:00:00  2016-03-17 13:36:21  2016-03-17 14:45:58\n",
       "20     2016-03-05 00:00:00  2016-03-05 19:57:31  2016-03-07 05:46:46\n",
       "21     2016-03-06 00:00:00  2016-03-06 19:07:10  2016-04-05 23:46:19\n",
       "22     2016-03-28 00:00:00  2016-03-28 20:50:54  2016-04-01 06:45:30\n",
       "23     2016-03-10 00:00:00  2016-03-10 19:55:34  2016-03-17 08:45:17\n",
       "24     2016-04-03 00:00:00  2016-04-03 11:57:02  2016-04-07 13:16:50\n",
       "25     2016-03-21 00:00:00  2016-03-21 21:56:18  2016-04-01 05:16:49\n",
       "26     2016-04-03 00:00:00  2016-04-03 22:46:28  2016-04-05 23:46:48\n",
       "28     2016-03-19 00:00:00  2016-03-19 21:56:19  2016-04-07 14:58:48\n",
       "29     2016-04-02 00:00:00  2016-04-02 12:45:44  2016-04-02 12:45:44\n",
       "30     2016-03-14 00:00:00  2016-03-14 11:47:31  2016-03-14 11:47:31\n",
       "...                    ...                  ...                  ...\n",
       "49968  2016-04-01 00:00:00  2016-04-01 17:49:15  2016-04-05 13:16:35\n",
       "49969  2016-03-17 00:00:00  2016-03-17 18:49:02  2016-03-25 23:18:15\n",
       "49970  2016-03-21 00:00:00  2016-03-21 22:47:37  2016-04-07 04:17:34\n",
       "49971  2016-03-29 00:00:00  2016-03-29 14:54:12  2016-03-29 20:41:51\n",
       "49972  2016-03-26 00:00:00  2016-03-26 22:25:23  2016-03-28 11:28:18\n",
       "49973  2016-03-27 00:00:00  2016-03-27 05:32:39  2016-03-27 08:25:24\n",
       "49975  2016-03-27 00:00:00  2016-03-27 20:51:39  2016-04-05 19:45:34\n",
       "49976  2016-03-19 00:00:00  2016-03-19 18:56:05  2016-04-07 06:16:44\n",
       "49977  2016-03-31 00:00:00  2016-03-31 18:37:18  2016-04-06 12:16:11\n",
       "49978  2016-04-04 00:00:00  2016-04-04 10:37:14  2016-04-06 12:44:20\n",
       "49979  2016-03-20 00:00:00  2016-03-20 18:38:40  2016-04-07 01:45:12\n",
       "49980  2016-03-12 00:00:00  2016-03-12 10:55:54  2016-04-06 17:16:49\n",
       "49981  2016-03-15 00:00:00  2016-03-15 09:38:21  2016-04-05 17:21:46\n",
       "49982  2016-03-29 00:00:00  2016-03-29 18:51:08  2016-03-29 18:51:08\n",
       "49983  2016-03-06 00:00:00  2016-03-06 12:43:04  2016-03-09 06:16:08\n",
       "49985  2016-04-02 00:00:00  2016-04-02 16:38:23  2016-04-06 15:17:52\n",
       "49986  2016-04-04 00:00:00  2016-04-04 20:46:02  2016-04-06 23:16:00\n",
       "49987  2016-03-22 00:00:00  2016-03-22 20:47:27  2016-03-26 22:46:06\n",
       "49988  2016-03-28 00:00:00  2016-03-28 19:49:51  2016-04-07 02:17:40\n",
       "49989  2016-03-11 00:00:00  2016-03-11 19:50:37  2016-03-12 10:17:55\n",
       "49990  2016-03-21 00:00:00  2016-03-21 19:54:19  2016-04-06 22:46:57\n",
       "49991  2016-03-06 00:00:00  2016-03-06 15:25:19  2016-03-06 18:24:19\n",
       "49992  2016-03-10 00:00:00  2016-03-10 19:37:38  2016-03-13 01:44:51\n",
       "49993  2016-03-15 00:00:00  2016-03-15 18:47:35  2016-04-06 19:46:53\n",
       "49994  2016-03-22 00:00:00  2016-03-22 17:36:42  2016-04-06 08:16:39\n",
       "49995  2016-03-27 00:00:00  2016-03-27 14:38:19  2016-04-01 13:47:40\n",
       "49996  2016-03-28 00:00:00  2016-03-28 10:50:25  2016-04-02 14:18:02\n",
       "49997  2016-04-02 00:00:00  2016-04-02 14:44:48  2016-04-04 11:47:27\n",
       "49998  2016-03-08 00:00:00  2016-03-08 19:25:42  2016-04-05 16:45:07\n",
       "49999  2016-03-13 00:00:00  2016-03-14 00:42:12  2016-04-06 21:18:48\n",
       "\n",
       "[48565 rows x 3 columns]"
      ]
     },
     "execution_count": 21,
     "metadata": {},
     "output_type": "execute_result"
    }
   ],
   "source": [
    "autos[['ad_created','dateCrawled','lastSeen']] #columns follow expected pattern, dates increase going left to right"
   ]
  },
  {
   "cell_type": "markdown",
   "metadata": {},
   "source": [
    "# Fixing incorrect registration year "
   ]
  },
  {
   "cell_type": "code",
   "execution_count": 22,
   "metadata": {
    "ExecuteTime": {
     "end_time": "2018-09-28T06:43:47.026000Z",
     "start_time": "2018-09-28T06:43:47.016000Z"
    }
   },
   "outputs": [
    {
     "data": {
      "text/plain": [
       "count    48565.000000\n",
       "mean      2004.755421\n",
       "std         88.643887\n",
       "min       1000.000000\n",
       "25%       1999.000000\n",
       "50%       2004.000000\n",
       "75%       2008.000000\n",
       "max       9999.000000\n",
       "Name: registration_year, dtype: float64"
      ]
     },
     "execution_count": 22,
     "metadata": {},
     "output_type": "execute_result"
    }
   ],
   "source": [
    "autos.registration_year.describe()"
   ]
  },
  {
   "cell_type": "markdown",
   "metadata": {},
   "source": [
    "registration_year may help convey age of car. The min year is before cars were invented (~1800) The max year is too far in the future, obviously wrong. Registration must happen before listing, so ad_created sets the latest possible time (2016) of corresponding registration. Any year above 2016 is wrong. For the earliest time, 1900 is a realistic estimate."
   ]
  },
  {
   "cell_type": "code",
   "execution_count": 23,
   "metadata": {
    "ExecuteTime": {
     "end_time": "2018-09-28T06:43:47.035000Z",
     "start_time": "2018-09-28T06:43:47.028000Z"
    }
   },
   "outputs": [
    {
     "data": {
      "text/plain": [
       "0.961206630289303"
      ]
     },
     "execution_count": 23,
     "metadata": {},
     "output_type": "execute_result"
    }
   ],
   "source": [
    "autos.registration_year.between(1900,2016).sum()/len(autos) #large portion of values are within this reasonable range, it's safe to remove rows outside rows"
   ]
  },
  {
   "cell_type": "code",
   "execution_count": 24,
   "metadata": {
    "ExecuteTime": {
     "end_time": "2018-09-28T06:43:47.051000Z",
     "start_time": "2018-09-28T06:43:47.037000Z"
    }
   },
   "outputs": [],
   "source": [
    "autos = autos[autos.registration_year.between(1900,2016)]"
   ]
  },
  {
   "cell_type": "code",
   "execution_count": 25,
   "metadata": {
    "ExecuteTime": {
     "end_time": "2018-09-28T06:43:47.168000Z",
     "start_time": "2018-09-28T06:43:47.053000Z"
    }
   },
   "outputs": [
    {
     "data": {
      "text/plain": [
       "<matplotlib.axes._subplots.AxesSubplot at 0x9897128>"
      ]
     },
     "execution_count": 25,
     "metadata": {},
     "output_type": "execute_result"
    },
    {
     "data": {
      "image/png": "[encoded data removed]",
      "text/plain": [
       "<Figure size 432x288 with 1 Axes>"
      ]
     },
     "metadata": {},
     "output_type": "display_data"
    }
   ],
   "source": [
    "autos.registration_year.value_counts(normalize=True).sort_index().plot()\n",
    "plt.show()"
   ]
  },
  {
   "cell_type": "markdown",
   "metadata": {},
   "source": [
    "Most of the cars have registration year around 2000. There are significantly less cars registered before 1980."
   ]
  },
  {
   "cell_type": "markdown",
   "metadata": {},
   "source": [
    "# Exploring Price by Brand"
   ]
  },
  {
   "cell_type": "code",
   "execution_count": 26,
   "metadata": {
    "ExecuteTime": {
     "end_time": "2018-09-28T06:43:47.183000Z",
     "start_time": "2018-09-28T06:43:47.170000Z"
    }
   },
   "outputs": [
    {
     "data": {
      "text/plain": [
       "volkswagen        0.211264\n",
       "bmw               0.110045\n",
       "opel              0.107581\n",
       "mercedes_benz     0.096463\n",
       "audi              0.086566\n",
       "ford              0.069900\n",
       "renault           0.047150\n",
       "peugeot           0.029841\n",
       "fiat              0.025642\n",
       "seat              0.018273\n",
       "skoda             0.016409\n",
       "nissan            0.015274\n",
       "mazda             0.015188\n",
       "smart             0.014160\n",
       "citroen           0.014010\n",
       "toyota            0.012703\n",
       "hyundai           0.010025\n",
       "sonstige_autos    0.009811\n",
       "volvo             0.009147\n",
       "mini              0.008762\n",
       "mitsubishi        0.008226\n",
       "honda             0.007840\n",
       "kia               0.007069\n",
       "alfa_romeo        0.006641\n",
       "porsche           0.006127\n",
       "suzuki            0.005934\n",
       "chevrolet         0.005698\n",
       "chrysler          0.003513\n",
       "dacia             0.002635\n",
       "daihatsu          0.002506\n",
       "jeep              0.002271\n",
       "subaru            0.002142\n",
       "land_rover        0.002099\n",
       "saab              0.001649\n",
       "jaguar            0.001564\n",
       "daewoo            0.001500\n",
       "trabant           0.001392\n",
       "rover             0.001328\n",
       "lancia            0.001071\n",
       "lada              0.000578\n",
       "Name: brand, dtype: float64"
      ]
     },
     "execution_count": 26,
     "metadata": {},
     "output_type": "execute_result"
    }
   ],
   "source": [
    "autos.brand.value_counts(normalize=True)"
   ]
  },
  {
   "cell_type": "markdown",
   "metadata": {},
   "source": [
    "There are 40 brands in the dataset. Volkswagen has more than double the number of bmw in rank 2. The top 6 brands by number of listing each have more than 5% of the total number of listings. Together they represent 65% of the listings and are selected to be analyzed. "
   ]
  },
  {
   "cell_type": "code",
   "execution_count": 27,
   "metadata": {
    "ExecuteTime": {
     "end_time": "2018-09-28T06:43:47.246000Z",
     "start_time": "2018-09-28T06:43:47.185000Z"
    }
   },
   "outputs": [],
   "source": [
    "top_6 = autos.brand.value_counts(normalize=True).index[:6]\n",
    "brand_prices = {}\n",
    "for brand in top_6:\n",
    "    group = autos[autos.brand == brand]\n",
    "    brand_prices[brand] = int(group.price.mean())"
   ]
  },
  {
   "cell_type": "code",
   "execution_count": 28,
   "metadata": {
    "ExecuteTime": {
     "end_time": "2018-09-28T06:43:47.254000Z",
     "start_time": "2018-09-28T06:43:47.247000Z"
    }
   },
   "outputs": [
    {
     "data": {
      "text/plain": [
       "Index(['volkswagen', 'bmw', 'opel', 'mercedes_benz', 'audi', 'ford'], dtype='object')"
      ]
     },
     "execution_count": 28,
     "metadata": {},
     "output_type": "execute_result"
    },
    {
     "name": "stdout",
     "output_type": "stream",
     "text": [
      "opel 2975\n",
      "ford 3749\n",
      "volkswagen 5402\n",
      "bmw 8332\n",
      "mercedes_benz 8628\n",
      "audi 9336\n"
     ]
    }
   ],
   "source": [
    "top_6\n",
    "for brand in sorted(brand_prices, key=brand_prices.get):\n",
    "    print(brand, brand_prices[brand])"
   ]
  },
  {
   "cell_type": "markdown",
   "metadata": {},
   "source": [
    "There are 3 distinct price levels (rank denotes listing rank)\n",
    "\n",
    "* ford(rank 6) + opel(rank 3)\n",
    "* volkswagen(rank 1)\n",
    "* audi(rank 5) + mercedes_benz(rank 4) + bmw (rank 2)\n",
    "\n",
    "opel and ford have significantly lower prices than the other 4 brands in top 6. This could be due to ford and opel being older vehicles and thus having a greater supply in the market. Volkswagen could be rank 1 because it is the best value for money"
   ]
  },
  {
   "cell_type": "code",
   "execution_count": 29,
   "metadata": {
    "ExecuteTime": {
     "end_time": "2018-09-28T06:43:47.292000Z",
     "start_time": "2018-09-28T06:43:47.256000Z"
    }
   },
   "outputs": [
    {
     "data": {
      "text/html": [
       "<div>\n",
       "<style scoped>\n",
       "    .dataframe tbody tr th:only-of-type {\n",
       "        vertical-align: middle;\n",
       "    }\n",
       "\n",
       "    .dataframe tbody tr th {\n",
       "        vertical-align: top;\n",
       "    }\n",
       "\n",
       "    .dataframe thead th {\n",
       "        text-align: right;\n",
       "    }\n",
       "</style>\n",
       "<table border=\"1\" class=\"dataframe\">\n",
       "  <thead>\n",
       "    <tr style=\"text-align: right;\">\n",
       "      <th></th>\n",
       "      <th>registration_year</th>\n",
       "    </tr>\n",
       "    <tr>\n",
       "      <th>brand</th>\n",
       "      <th></th>\n",
       "    </tr>\n",
       "  </thead>\n",
       "  <tbody>\n",
       "    <tr>\n",
       "      <th>audi</th>\n",
       "      <td>2004.155902</td>\n",
       "    </tr>\n",
       "    <tr>\n",
       "      <th>bmw</th>\n",
       "      <td>2003.035235</td>\n",
       "    </tr>\n",
       "    <tr>\n",
       "      <th>ford</th>\n",
       "      <td>2002.769844</td>\n",
       "    </tr>\n",
       "    <tr>\n",
       "      <th>mercedes_benz</th>\n",
       "      <td>2002.031312</td>\n",
       "    </tr>\n",
       "    <tr>\n",
       "      <th>opel</th>\n",
       "      <td>2002.223218</td>\n",
       "    </tr>\n",
       "    <tr>\n",
       "      <th>volkswagen</th>\n",
       "      <td>2002.467248</td>\n",
       "    </tr>\n",
       "  </tbody>\n",
       "</table>\n",
       "</div>"
      ],
      "text/plain": [
       "               registration_year\n",
       "brand                           \n",
       "audi                 2004.155902\n",
       "bmw                  2003.035235\n",
       "ford                 2002.769844\n",
       "mercedes_benz        2002.031312\n",
       "opel                 2002.223218\n",
       "volkswagen           2002.467248"
      ]
     },
     "execution_count": 29,
     "metadata": {},
     "output_type": "execute_result"
    }
   ],
   "source": [
    "auto_top_6 = autos[autos.brand.isin(top_6)]\n",
    "auto_top_6[['brand','registration_year']].groupby('brand').mean()"
   ]
  },
  {
   "cell_type": "markdown",
   "metadata": {},
   "source": [
    "Surprisingly all the registration_years are close to each other, so age of car is not a significant predictor of the huge differences in price."
   ]
  },
  {
   "cell_type": "code",
   "execution_count": 30,
   "metadata": {
    "ExecuteTime": {
     "end_time": "2018-09-28T06:43:47.340000Z",
     "start_time": "2018-09-28T06:43:47.293000Z"
    }
   },
   "outputs": [],
   "source": [
    "brand_mileage = {}\n",
    "\n",
    "for brand in top_6:\n",
    "    group = autos[autos.brand == brand]\n",
    "    brand_mileage[brand] = int(group.odometer_km.mean())   "
   ]
  },
  {
   "cell_type": "code",
   "execution_count": 31,
   "metadata": {
    "ExecuteTime": {
     "end_time": "2018-09-28T06:43:47.353000Z",
     "start_time": "2018-09-28T06:43:47.341000Z"
    }
   },
   "outputs": [
    {
     "data": {
      "text/html": [
       "<div>\n",
       "<style scoped>\n",
       "    .dataframe tbody tr th:only-of-type {\n",
       "        vertical-align: middle;\n",
       "    }\n",
       "\n",
       "    .dataframe tbody tr th {\n",
       "        vertical-align: top;\n",
       "    }\n",
       "\n",
       "    .dataframe thead th {\n",
       "        text-align: right;\n",
       "    }\n",
       "</style>\n",
       "<table border=\"1\" class=\"dataframe\">\n",
       "  <thead>\n",
       "    <tr style=\"text-align: right;\">\n",
       "      <th></th>\n",
       "      <th>mean_mileage</th>\n",
       "      <th>mean_prices</th>\n",
       "    </tr>\n",
       "  </thead>\n",
       "  <tbody>\n",
       "    <tr>\n",
       "      <th>opel</th>\n",
       "      <td>129310</td>\n",
       "      <td>2975</td>\n",
       "    </tr>\n",
       "    <tr>\n",
       "      <th>ford</th>\n",
       "      <td>124266</td>\n",
       "      <td>3749</td>\n",
       "    </tr>\n",
       "    <tr>\n",
       "      <th>volkswagen</th>\n",
       "      <td>128707</td>\n",
       "      <td>5402</td>\n",
       "    </tr>\n",
       "    <tr>\n",
       "      <th>bmw</th>\n",
       "      <td>132572</td>\n",
       "      <td>8332</td>\n",
       "    </tr>\n",
       "    <tr>\n",
       "      <th>mercedes_benz</th>\n",
       "      <td>130788</td>\n",
       "      <td>8628</td>\n",
       "    </tr>\n",
       "    <tr>\n",
       "      <th>audi</th>\n",
       "      <td>129157</td>\n",
       "      <td>9336</td>\n",
       "    </tr>\n",
       "  </tbody>\n",
       "</table>\n",
       "</div>"
      ],
      "text/plain": [
       "               mean_mileage  mean_prices\n",
       "opel                 129310         2975\n",
       "ford                 124266         3749\n",
       "volkswagen           128707         5402\n",
       "bmw                  132572         8332\n",
       "mercedes_benz        130788         8628\n",
       "audi                 129157         9336"
      ]
     },
     "execution_count": 31,
     "metadata": {},
     "output_type": "execute_result"
    }
   ],
   "source": [
    "brand_summary = pd.DataFrame.from_dict(brand_mileage,orient='index').rename(columns = {0:'mean_mileage'})\n",
    "price_series = pd.Series(brand_prices)\n",
    "brand_summary['mean_prices'] = price_series\n",
    "brand_summary.sort_values('mean_prices')"
   ]
  },
  {
   "cell_type": "markdown",
   "metadata": {},
   "source": [
    "Between brands, car mileages do not vary as much as prices, mileage looks generally unrelated to price. The more expensive brands have a slightly higher mileage There could be other factors affecting price"
   ]
  },
  {
   "cell_type": "markdown",
   "metadata": {},
   "source": [
    "# Most common brand/model combinations "
   ]
  },
  {
   "cell_type": "code",
   "execution_count": 170,
   "metadata": {
    "ExecuteTime": {
     "end_time": "2018-09-28T08:19:07.606001Z",
     "start_time": "2018-09-28T08:19:07.554001Z"
    }
   },
   "outputs": [
    {
     "data": {
      "text/html": [
       "<div>\n",
       "<style scoped>\n",
       "    .dataframe tbody tr th:only-of-type {\n",
       "        vertical-align: middle;\n",
       "    }\n",
       "\n",
       "    .dataframe tbody tr th {\n",
       "        vertical-align: top;\n",
       "    }\n",
       "\n",
       "    .dataframe thead th {\n",
       "        text-align: right;\n",
       "    }\n",
       "</style>\n",
       "<table border=\"1\" class=\"dataframe\">\n",
       "  <thead>\n",
       "    <tr style=\"text-align: right;\">\n",
       "      <th></th>\n",
       "      <th>model</th>\n",
       "      <th>model_count</th>\n",
       "    </tr>\n",
       "    <tr>\n",
       "      <th>brand</th>\n",
       "      <th></th>\n",
       "      <th></th>\n",
       "    </tr>\n",
       "  </thead>\n",
       "  <tbody>\n",
       "    <tr>\n",
       "      <th>alfa_romeo</th>\n",
       "      <td>156</td>\n",
       "      <td>88</td>\n",
       "    </tr>\n",
       "    <tr>\n",
       "      <th>audi</th>\n",
       "      <td>a4</td>\n",
       "      <td>1231</td>\n",
       "    </tr>\n",
       "    <tr>\n",
       "      <th>bmw</th>\n",
       "      <td>3er</td>\n",
       "      <td>2615</td>\n",
       "    </tr>\n",
       "    <tr>\n",
       "      <th>chevrolet</th>\n",
       "      <td>andere</td>\n",
       "      <td>147</td>\n",
       "    </tr>\n",
       "    <tr>\n",
       "      <th>chrysler</th>\n",
       "      <td>andere</td>\n",
       "      <td>52</td>\n",
       "    </tr>\n",
       "    <tr>\n",
       "      <th>citroen</th>\n",
       "      <td>andere</td>\n",
       "      <td>219</td>\n",
       "    </tr>\n",
       "    <tr>\n",
       "      <th>dacia</th>\n",
       "      <td>sandero</td>\n",
       "      <td>44</td>\n",
       "    </tr>\n",
       "    <tr>\n",
       "      <th>daewoo</th>\n",
       "      <td>matiz</td>\n",
       "      <td>22</td>\n",
       "    </tr>\n",
       "    <tr>\n",
       "      <th>daihatsu</th>\n",
       "      <td>cuore</td>\n",
       "      <td>63</td>\n",
       "    </tr>\n",
       "    <tr>\n",
       "      <th>fiat</th>\n",
       "      <td>punto</td>\n",
       "      <td>415</td>\n",
       "    </tr>\n",
       "    <tr>\n",
       "      <th>ford</th>\n",
       "      <td>focus</td>\n",
       "      <td>762</td>\n",
       "    </tr>\n",
       "    <tr>\n",
       "      <th>honda</th>\n",
       "      <td>civic</td>\n",
       "      <td>166</td>\n",
       "    </tr>\n",
       "    <tr>\n",
       "      <th>hyundai</th>\n",
       "      <td>i_reihe</td>\n",
       "      <td>174</td>\n",
       "    </tr>\n",
       "    <tr>\n",
       "      <th>jaguar</th>\n",
       "      <td>andere</td>\n",
       "      <td>39</td>\n",
       "    </tr>\n",
       "    <tr>\n",
       "      <th>jeep</th>\n",
       "      <td>grand</td>\n",
       "      <td>43</td>\n",
       "    </tr>\n",
       "    <tr>\n",
       "      <th>kia</th>\n",
       "      <td>andere</td>\n",
       "      <td>65</td>\n",
       "    </tr>\n",
       "    <tr>\n",
       "      <th>lada</th>\n",
       "      <td>niva</td>\n",
       "      <td>15</td>\n",
       "    </tr>\n",
       "    <tr>\n",
       "      <th>lancia</th>\n",
       "      <td>ypsilon</td>\n",
       "      <td>19</td>\n",
       "    </tr>\n",
       "    <tr>\n",
       "      <th>land_rover</th>\n",
       "      <td>freelander</td>\n",
       "      <td>31</td>\n",
       "    </tr>\n",
       "    <tr>\n",
       "      <th>mazda</th>\n",
       "      <td>3_reihe</td>\n",
       "      <td>164</td>\n",
       "    </tr>\n",
       "    <tr>\n",
       "      <th>mercedes_benz</th>\n",
       "      <td>c_klasse</td>\n",
       "      <td>1136</td>\n",
       "    </tr>\n",
       "    <tr>\n",
       "      <th>mini</th>\n",
       "      <td>cooper</td>\n",
       "      <td>271</td>\n",
       "    </tr>\n",
       "    <tr>\n",
       "      <th>mitsubishi</th>\n",
       "      <td>colt</td>\n",
       "      <td>112</td>\n",
       "    </tr>\n",
       "    <tr>\n",
       "      <th>nissan</th>\n",
       "      <td>micra</td>\n",
       "      <td>243</td>\n",
       "    </tr>\n",
       "    <tr>\n",
       "      <th>opel</th>\n",
       "      <td>corsa</td>\n",
       "      <td>1592</td>\n",
       "    </tr>\n",
       "    <tr>\n",
       "      <th>peugeot</th>\n",
       "      <td>2_reihe</td>\n",
       "      <td>600</td>\n",
       "    </tr>\n",
       "    <tr>\n",
       "      <th>porsche</th>\n",
       "      <td>911</td>\n",
       "      <td>141</td>\n",
       "    </tr>\n",
       "    <tr>\n",
       "      <th>renault</th>\n",
       "      <td>twingo</td>\n",
       "      <td>615</td>\n",
       "    </tr>\n",
       "    <tr>\n",
       "      <th>rover</th>\n",
       "      <td>andere</td>\n",
       "      <td>55</td>\n",
       "    </tr>\n",
       "    <tr>\n",
       "      <th>saab</th>\n",
       "      <td>andere</td>\n",
       "      <td>53</td>\n",
       "    </tr>\n",
       "    <tr>\n",
       "      <th>seat</th>\n",
       "      <td>ibiza</td>\n",
       "      <td>328</td>\n",
       "    </tr>\n",
       "    <tr>\n",
       "      <th>skoda</th>\n",
       "      <td>octavia</td>\n",
       "      <td>305</td>\n",
       "    </tr>\n",
       "    <tr>\n",
       "      <th>smart</th>\n",
       "      <td>fortwo</td>\n",
       "      <td>550</td>\n",
       "    </tr>\n",
       "    <tr>\n",
       "      <th>subaru</th>\n",
       "      <td>legacy</td>\n",
       "      <td>30</td>\n",
       "    </tr>\n",
       "    <tr>\n",
       "      <th>suzuki</th>\n",
       "      <td>andere</td>\n",
       "      <td>119</td>\n",
       "    </tr>\n",
       "    <tr>\n",
       "      <th>toyota</th>\n",
       "      <td>yaris</td>\n",
       "      <td>126</td>\n",
       "    </tr>\n",
       "    <tr>\n",
       "      <th>trabant</th>\n",
       "      <td>601</td>\n",
       "      <td>47</td>\n",
       "    </tr>\n",
       "    <tr>\n",
       "      <th>volkswagen</th>\n",
       "      <td>golf</td>\n",
       "      <td>3707</td>\n",
       "    </tr>\n",
       "    <tr>\n",
       "      <th>volvo</th>\n",
       "      <td>v70</td>\n",
       "      <td>91</td>\n",
       "    </tr>\n",
       "  </tbody>\n",
       "</table>\n",
       "</div>"
      ],
      "text/plain": [
       "                    model  model_count\n",
       "brand                                 \n",
       "alfa_romeo            156           88\n",
       "audi                   a4         1231\n",
       "bmw                   3er         2615\n",
       "chevrolet          andere          147\n",
       "chrysler           andere           52\n",
       "citroen            andere          219\n",
       "dacia             sandero           44\n",
       "daewoo              matiz           22\n",
       "daihatsu            cuore           63\n",
       "fiat                punto          415\n",
       "ford                focus          762\n",
       "honda               civic          166\n",
       "hyundai           i_reihe          174\n",
       "jaguar             andere           39\n",
       "jeep                grand           43\n",
       "kia                andere           65\n",
       "lada                 niva           15\n",
       "lancia            ypsilon           19\n",
       "land_rover     freelander           31\n",
       "mazda             3_reihe          164\n",
       "mercedes_benz    c_klasse         1136\n",
       "mini               cooper          271\n",
       "mitsubishi           colt          112\n",
       "nissan              micra          243\n",
       "opel                corsa         1592\n",
       "peugeot           2_reihe          600\n",
       "porsche               911          141\n",
       "renault            twingo          615\n",
       "rover              andere           55\n",
       "saab               andere           53\n",
       "seat                ibiza          328\n",
       "skoda             octavia          305\n",
       "smart              fortwo          550\n",
       "subaru             legacy           30\n",
       "suzuki             andere          119\n",
       "toyota              yaris          126\n",
       "trabant               601           47\n",
       "volkswagen           golf         3707\n",
       "volvo                 v70           91"
      ]
     },
     "execution_count": 170,
     "metadata": {},
     "output_type": "execute_result"
    }
   ],
   "source": [
    "group = autos['model'].groupby(autos.brand).value_counts()\n",
    "\n",
    "max_index = group.groupby(level='brand').apply(lambda x: x.idxmax()[1])\n",
    "max_value = group.groupby(level='brand').apply(lambda x: x.max())\n",
    "max_value.name = 'model_count'\n",
    "\n",
    "pd.concat([max_index,max_value],axis=1)"
   ]
  },
  {
   "cell_type": "markdown",
   "metadata": {},
   "source": [
    "# Relating Mileage and Price "
   ]
  },
  {
   "cell_type": "code",
   "execution_count": null,
   "metadata": {
    "ExecuteTime": {
     "end_time": "2018-09-28T06:43:47.662000Z",
     "start_time": "2018-09-28T06:43:44.257Z"
    }
   },
   "outputs": [],
   "source": [
    "autos[['odometer_km','price']].corr() #only slight negative correlation generally\n",
    "odometer_price = autos[['odometer_km','price']].groupby('odometer_km').mean()\n",
    "odometer_price.price.reset_index().corr()\n",
    "odometer_price.plot()"
   ]
  },
  {
   "cell_type": "raw",
   "metadata": {},
   "source": [
    "From 5000 - 10000 There is a huge increase in mean price for more mileage. Then from 10000 - 150000 price constantly drops linearly. "
   ]
  },
  {
   "cell_type": "markdown",
   "metadata": {},
   "source": [
    "# Comparing damage vs no damage "
   ]
  },
  {
   "cell_type": "code",
   "execution_count": null,
   "metadata": {
    "ExecuteTime": {
     "end_time": "2018-09-28T06:43:47.663000Z",
     "start_time": "2018-09-28T06:43:44.293Z"
    }
   },
   "outputs": [],
   "source": [
    "autos.unrepaired_damage.value_counts(dropna =False)"
   ]
  },
  {
   "cell_type": "code",
   "execution_count": null,
   "metadata": {
    "ExecuteTime": {
     "end_time": "2018-09-28T06:43:47.665000Z",
     "start_time": "2018-09-28T06:43:44.296Z"
    }
   },
   "outputs": [],
   "source": [
    "autos_nodamage = autos[autos.unrepaired_damage == 'nein']\n",
    "autos_damage = autos[autos.unrepaired_damage == 'ja']\n",
    "\n",
    "autos_nodamage.price.plot(label = 'no damage')\n",
    "autos_damage.price.plot(label = 'damage')\n",
    "plt.legend()"
   ]
  },
  {
   "cell_type": "markdown",
   "metadata": {},
   "source": [
    "Cars without damage sell for more than 5x the price of damaged cars. "
   ]
  },
  {
   "cell_type": "code",
   "execution_count": null,
   "metadata": {
    "ExecuteTime": {
     "end_time": "2018-09-28T06:43:47.667000Z",
     "start_time": "2018-09-28T06:43:44.300Z"
    }
   },
   "outputs": [],
   "source": [
    "autos.sample(20)"
   ]
  }
 ],
 "metadata": {
  "kernelspec": {
   "display_name": "Python [conda env:Anaconda3]",
   "language": "python",
   "name": "conda-env-Anaconda3-py"
  },
  "language_info": {
   "codemirror_mode": {
    "name": "ipython",
    "version": 3
   },
   "file_extension": ".py",
   "mimetype": "text/x-python",
   "name": "python",
   "nbconvert_exporter": "python",
   "pygments_lexer": "ipython3",
   "version": "3.6.5"
  },
  "toc": {
   "base_numbering": 1,
   "nav_menu": {},
   "number_sections": true,
   "sideBar": true,
   "skip_h1_title": false,
   "title_cell": "Table of Contents",
   "title_sidebar": "Contents",
   "toc_cell": true,
   "toc_position": {},
   "toc_section_display": true,
   "toc_window_display": true
  }
 },
 "nbformat": 4,
 "nbformat_minor": 2
}
