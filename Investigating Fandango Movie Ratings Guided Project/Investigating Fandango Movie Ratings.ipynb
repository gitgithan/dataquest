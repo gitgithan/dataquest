{
 "cells": [
  {
   "cell_type": "markdown",
   "metadata": {
    "toc": true
   },
   "source": [
    "<h1>Table of Contents<span class=\"tocSkip\"></span></h1>\n",
    "<div class=\"toc\"><ul class=\"toc-item\"><li><span><a href=\"#Project-Goal\" data-toc-modified-id=\"Project-Goal-1\"><span class=\"toc-item-num\">1&nbsp;&nbsp;</span>Project Goal</a></span></li><li><span><a href=\"#Reading-files\" data-toc-modified-id=\"Reading-files-2\"><span class=\"toc-item-num\">2&nbsp;&nbsp;</span>Reading files</a></span><ul class=\"toc-item\"><li><span><a href=\"#Testing-if-samples-are-representative\" data-toc-modified-id=\"Testing-if-samples-are-representative-2.1\"><span class=\"toc-item-num\">2.1&nbsp;&nbsp;</span>Testing if samples are representative</a></span></li><li><span><a href=\"#Verifying-representativeness-of-2nd-sample\" data-toc-modified-id=\"Verifying-representativeness-of-2nd-sample-2.2\"><span class=\"toc-item-num\">2.2&nbsp;&nbsp;</span>Verifying representativeness of 2nd sample</a></span></li></ul></li><li><span><a href=\"#Isolating-datasets-for-new-goal\" data-toc-modified-id=\"Isolating-datasets-for-new-goal-3\"><span class=\"toc-item-num\">3&nbsp;&nbsp;</span>Isolating datasets for new goal</a></span><ul class=\"toc-item\"><li><span><a href=\"#Analyzing-Distribution-shapes\" data-toc-modified-id=\"Analyzing-Distribution-shapes-3.1\"><span class=\"toc-item-num\">3.1&nbsp;&nbsp;</span>Analyzing Distribution shapes</a></span></li><li><span><a href=\"#Analyzing-Frequency-Distrbutions-for-more-granularity\" data-toc-modified-id=\"Analyzing-Frequency-Distrbutions-for-more-granularity-3.2\"><span class=\"toc-item-num\">3.2&nbsp;&nbsp;</span>Analyzing Frequency Distrbutions for more granularity</a></span></li><li><span><a href=\"#Comparing-Mean,-Median,-Mode\" data-toc-modified-id=\"Comparing-Mean,-Median,-Mode-3.3\"><span class=\"toc-item-num\">3.3&nbsp;&nbsp;</span>Comparing Mean, Median, Mode</a></span></li></ul></li><li><span><a href=\"#Conclusion\" data-toc-modified-id=\"Conclusion-4\"><span class=\"toc-item-num\">4&nbsp;&nbsp;</span>Conclusion</a></span></li></ul></div>"
   ]
  },
  {
   "cell_type": "markdown",
   "metadata": {},
   "source": [
    "# Project Goal"
   ]
  },
  {
   "cell_type": "markdown",
   "metadata": {},
   "source": [
    "* Walt Hickey [analyzed](https://fivethirtyeight.com/features/fandango-movies-ratings/) fandango's movie ratings by comparing the actual unrounded ratings in the HTML and the displayed ratings to website visitors and found that they have rounded up movies ratings to the nearest half star (4.1->4.5) or the full star (4.5->5). There were also examples of rounding (4->5)\n",
    "\n",
    "* The goal of the project is to look at more recent ratings data to see if fandango has changed their ratings system after Hickey's analysis. "
   ]
  },
  {
   "cell_type": "markdown",
   "metadata": {},
   "source": [
    "# Reading files"
   ]
  },
  {
   "cell_type": "code",
   "execution_count": 1,
   "metadata": {
    "ExecuteTime": {
     "end_time": "2018-07-03T04:55:39.116916Z",
     "start_time": "2018-07-03T04:55:37.020716Z"
    }
   },
   "outputs": [],
   "source": [
    "import numpy as np\n",
    "import pandas as pd\n",
    "import matplotlib.pyplot as plt\n",
    "plt.ion()\n",
    "import seaborn as sns\n",
    "\n",
    "before = pd.read_csv('fandango_score_comparison.csv', usecols = ['FILM', 'Fandango_Stars', 'Fandango_Ratingvalue', 'Fandango_votes', 'Fandango_Difference'])\n",
    "after = pd.read_csv('movie_ratings_16_17.csv', usecols = ['movie', 'year', 'fandango'])"
   ]
  },
  {
   "cell_type": "markdown",
   "metadata": {},
   "source": [
    "## Testing if samples are representative"
   ]
  },
  {
   "cell_type": "code",
   "execution_count": 2,
   "metadata": {
    "ExecuteTime": {
     "end_time": "2018-07-03T04:55:39.148116Z",
     "start_time": "2018-07-03T04:55:39.116916Z"
    }
   },
   "outputs": [
    {
     "name": "stdout",
     "output_type": "stream",
     "text": [
      "(2015)    129\n",
      "(2014)     17\n",
      "Name: FILM, dtype: int64\n",
      "\n",
      "2016    191\n",
      "2017     23\n",
      "Name: year, dtype: int64\n"
     ]
    }
   ],
   "source": [
    "def get_year(row):\n",
    "    return row.split()[-1]\n",
    "\n",
    "print(before.FILM.apply(get_year).value_counts(),end='\\n\\n')  \n",
    "\n",
    "\n",
    "print(after.year.value_counts())"
   ]
  },
  {
   "cell_type": "markdown",
   "metadata": {
    "ExecuteTime": {
     "end_time": "2018-06-28T04:19:34.310022Z",
     "start_time": "2018-06-28T04:19:34.278822Z"
    }
   },
   "source": [
    "The population of interest is made of all the movie ratings stored on Fandango's website, regardless of the releasing year or the number of reviews a movie gets.\n",
    "\n",
    "**FIRST SAMPLE**\n",
    "Hickey's fandango_score_comparison.csv dataset had two sampling criteria:\n",
    "\n",
    "1. had tickets on sale in 2015\n",
    "2. had 30 or more reviews on fandango \n",
    "\n",
    "This is not be a representative sample of the population of movies because the choice is not random and not every movie had an equal chance of being selected. Those movies that were released 2014 but stopped selling tickets in 2015 would be excluded. Those that had less than 30 reviews similarly would be excluded. He scraped 510 movies that had tickets on sale in 2015, then cut down to only 209 films that have 30 or more user ratings. This means that only the more popular (in terms of number of people bothering to rate it) movies are selected for analysis. The samples are also subjected to temporal trends, where movies in year 2015 could have been outstandingly good or bad compared to other years, possibly due to the coincidence of other events in the country which influenced the release dates, or the availability of directors/cast which affected movie quality.  \n",
    "\n",
    "**SECOND SAMPLE**\n",
    "\n",
    "The sampling criteria for the second sample:\n",
    "\n",
    "1. released in 2016 and 2017\n",
    "2. significant number of votes (number for significance unspecified)\n",
    "\n",
    "The second sample is similarly exposed to temporal trends and the popularity problem described above\n",
    "From the `value_counts()` on both samples, we see that there are much more examples of movies from 2015 than 2014 in the 1st sample, and much more movies from 2016 than 2017 in the 2nd sample. Focusing on the years 2015, 2016 with higher sample sizes would be probably be more representative of the movies from years 2015, 2016 in the population compared to using the smaller sample sizes of 2014,2017 to infer the population. \n",
    "\n",
    "**Way Forward to representativeness:** \n",
    "1. collect new data\n",
    "2. change the goal\n",
    "\n",
    "Placing limitations on the goal is much faster than collecting new data, so the new question is to see if fandango has changed their ratings system FOR POPULAR MOVIES IN 2016 after Hickey's analysis of POPULAR MOVIES IN 2015.   \n",
    "\n",
    "To be precise, popular is defined as having 30 or more ratings on fandango"
   ]
  },
  {
   "cell_type": "markdown",
   "metadata": {},
   "source": [
    "With a new goal, the populations of interest have changed to:\n",
    "1. All Fandango's ratings for popular movies released in 2015.\n",
    "2. All Fandango's ratings for popular movies released in 2016."
   ]
  },
  {
   "cell_type": "code",
   "execution_count": 3,
   "metadata": {
    "ExecuteTime": {
     "end_time": "2018-07-03T04:55:39.162116Z",
     "start_time": "2018-07-03T04:55:39.150116Z"
    }
   },
   "outputs": [],
   "source": [
    "before.Fandango_votes.value_counts().sort_index()  # as a check, all movies in 1st sample have 30 or more ratings\n",
    "\n",
    "sample2 = after.sample(10, random_state = 1)   #to check if sample 2 contains popular movies, sample 10 and manually check from website"
   ]
  },
  {
   "cell_type": "code",
   "execution_count": 4,
   "metadata": {
    "ExecuteTime": {
     "end_time": "2018-07-03T04:55:39.184116Z",
     "start_time": "2018-07-03T04:55:39.165116Z"
    }
   },
   "outputs": [
    {
     "data": {
      "text/html": [
       "<div>\n",
       "<style scoped>\n",
       "    .dataframe tbody tr th:only-of-type {\n",
       "        vertical-align: middle;\n",
       "    }\n",
       "\n",
       "    .dataframe tbody tr th {\n",
       "        vertical-align: top;\n",
       "    }\n",
       "\n",
       "    .dataframe thead th {\n",
       "        text-align: right;\n",
       "    }\n",
       "</style>\n",
       "<table border=\"1\" class=\"dataframe\">\n",
       "  <thead>\n",
       "    <tr style=\"text-align: right;\">\n",
       "      <th></th>\n",
       "      <th>movie</th>\n",
       "      <th>year</th>\n",
       "      <th>fandango</th>\n",
       "    </tr>\n",
       "  </thead>\n",
       "  <tbody>\n",
       "    <tr>\n",
       "      <th>108</th>\n",
       "      <td>Mechanic: Resurrection</td>\n",
       "      <td>2016</td>\n",
       "      <td>4.0</td>\n",
       "    </tr>\n",
       "    <tr>\n",
       "      <th>206</th>\n",
       "      <td>Warcraft</td>\n",
       "      <td>2016</td>\n",
       "      <td>4.0</td>\n",
       "    </tr>\n",
       "    <tr>\n",
       "      <th>106</th>\n",
       "      <td>Max Steel</td>\n",
       "      <td>2016</td>\n",
       "      <td>3.5</td>\n",
       "    </tr>\n",
       "    <tr>\n",
       "      <th>107</th>\n",
       "      <td>Me Before You</td>\n",
       "      <td>2016</td>\n",
       "      <td>4.5</td>\n",
       "    </tr>\n",
       "    <tr>\n",
       "      <th>51</th>\n",
       "      <td>Fantastic Beasts and Where to Find Them</td>\n",
       "      <td>2016</td>\n",
       "      <td>4.5</td>\n",
       "    </tr>\n",
       "    <tr>\n",
       "      <th>33</th>\n",
       "      <td>Cell</td>\n",
       "      <td>2016</td>\n",
       "      <td>3.0</td>\n",
       "    </tr>\n",
       "    <tr>\n",
       "      <th>59</th>\n",
       "      <td>Genius</td>\n",
       "      <td>2016</td>\n",
       "      <td>3.5</td>\n",
       "    </tr>\n",
       "    <tr>\n",
       "      <th>152</th>\n",
       "      <td>Sully</td>\n",
       "      <td>2016</td>\n",
       "      <td>4.5</td>\n",
       "    </tr>\n",
       "    <tr>\n",
       "      <th>4</th>\n",
       "      <td>A Hologram for the King</td>\n",
       "      <td>2016</td>\n",
       "      <td>3.0</td>\n",
       "    </tr>\n",
       "    <tr>\n",
       "      <th>31</th>\n",
       "      <td>Captain America: Civil War</td>\n",
       "      <td>2016</td>\n",
       "      <td>4.5</td>\n",
       "    </tr>\n",
       "  </tbody>\n",
       "</table>\n",
       "</div>"
      ],
      "text/plain": [
       "                                       movie  year  fandango\n",
       "108                   Mechanic: Resurrection  2016       4.0\n",
       "206                                 Warcraft  2016       4.0\n",
       "106                                Max Steel  2016       3.5\n",
       "107                            Me Before You  2016       4.5\n",
       "51   Fantastic Beasts and Where to Find Them  2016       4.5\n",
       "33                                      Cell  2016       3.0\n",
       "59                                    Genius  2016       3.5\n",
       "152                                    Sully  2016       4.5\n",
       "4                    A Hologram for the King  2016       3.0\n",
       "31                Captain America: Civil War  2016       4.5"
      ]
     },
     "execution_count": 4,
     "metadata": {},
     "output_type": "execute_result"
    }
   ],
   "source": [
    "sample2"
   ]
  },
  {
   "cell_type": "markdown",
   "metadata": {},
   "source": [
    " ## Verifying representativeness of 2nd sample"
   ]
  },
  {
   "cell_type": "code",
   "execution_count": 5,
   "metadata": {
    "ExecuteTime": {
     "end_time": "2018-07-03T04:55:39.199116Z",
     "start_time": "2018-07-03T04:55:39.186116Z"
    }
   },
   "outputs": [
    {
     "data": {
      "text/plain": [
       "movie\n",
       "Mechanic: Resurrection                      2247\n",
       "Warcraft                                    7271\n",
       "Max Steel                                    493\n",
       "Me Before You                               5263\n",
       "Fantastic Beasts and Where to Find Them    13400\n",
       "Cell                                          17\n",
       "Genius                                       127\n",
       "Sully                                      11877\n",
       "A Hologram for the King                      500\n",
       "Captain America: Civil War                 35057\n",
       "dtype: int64"
      ]
     },
     "execution_count": 5,
     "metadata": {},
     "output_type": "execute_result"
    }
   ],
   "source": [
    "pd.Series(data = [2247,7271,493,5263,13400,17,127,11877,500,35057],index=sample2.movie)"
   ]
  },
  {
   "cell_type": "markdown",
   "metadata": {},
   "source": [
    "Looking a random sample, 9/10 movies have more than 30 reviews so we can be confident that the 2nd sample is sufficient representative of the population of \"All Fandango's ratings for popular movies released in 2016.\""
   ]
  },
  {
   "cell_type": "markdown",
   "metadata": {},
   "source": [
    "# Isolating datasets for new goal "
   ]
  },
  {
   "cell_type": "code",
   "execution_count": 45,
   "metadata": {
    "ExecuteTime": {
     "end_time": "2018-06-29T04:38:25.540221Z",
     "start_time": "2018-06-29T04:38:25.526219Z"
    }
   },
   "outputs": [
    {
     "name": "stdout",
     "output_type": "stream",
     "text": [
      "2016    191\n",
      "Name: year, dtype: int64\n",
      "2015    129\n",
      "Name: year, dtype: int64\n"
     ]
    }
   ],
   "source": [
    "before['year'] = before.FILM.str[-5:-1]     #vectorized function faster than apply/map in python which loops\n",
    "before_2015 = before[before.year == '2015']    #make copies to avoid any SettingWithCopyWarning later on?\n",
    "\n",
    "after_2016 = after[after.year == 2016]         #make copies to avoid any SettingWithCopyWarning later on?\n",
    "\n",
    "print(after_2016.year.value_counts())    #verifying row filtering done correctly\n",
    "print(before_2015.year.value_counts())"
   ]
  },
  {
   "cell_type": "code",
   "execution_count": 65,
   "metadata": {
    "ExecuteTime": {
     "end_time": "2018-06-29T04:47:57.060367Z",
     "start_time": "2018-06-29T04:47:57.052366Z"
    }
   },
   "outputs": [
    {
     "name": "stdout",
     "output_type": "stream",
     "text": [
      "['bmh', 'classic', 'dark_background', 'fast', 'fivethirtyeight', 'ggplot', 'grayscale', 'seaborn-bright', 'seaborn-colorblind', 'seaborn-dark-palette', 'seaborn-dark', 'seaborn-darkgrid', 'seaborn-deep', 'seaborn-muted', 'seaborn-notebook', 'seaborn-paper', 'seaborn-pastel', 'seaborn-poster', 'seaborn-talk', 'seaborn-ticks', 'seaborn-white', 'seaborn-whitegrid', 'seaborn', 'Solarize_Light2', '_classic_test']\n"
     ]
    }
   ],
   "source": [
    "print(plt.style.available)"
   ]
  },
  {
   "cell_type": "code",
   "execution_count": 150,
   "metadata": {
    "ExecuteTime": {
     "end_time": "2018-06-29T05:43:57.509706Z",
     "start_time": "2018-06-29T05:43:57.313746Z"
    }
   },
   "outputs": [
    {
     "data": {
      "text/plain": [
       "(0, 5)"
      ]
     },
     "execution_count": 150,
     "metadata": {},
     "output_type": "execute_result"
    },
    {
     "data": {
      "image/png": "[encoded data removed]",
      "text/plain": [
       "<matplotlib.figure.Figure at 0x10458dd8>"
      ]
     },
     "metadata": {},
     "output_type": "display_data"
    }
   ],
   "source": [
    "plt.ion()   \n",
    "plt.figure(figsize = (10,6))\n",
    "plt.style.use('fivethirtyeight')\n",
    "\n",
    "before_2015.Fandango_Stars.plot.kde(label = '2015', legend = True)\n",
    "after_2016.fandango.plot.kde(label = '2016', legend = True)\n",
    "\n",
    "\n",
    "plt.title('Fandango Ratings of popular movies\\n(2015 vs 2016)',y = 1.05)  # the `y` parameter pads the title upward\n",
    "plt.xlabel('Stars')\n",
    "plt.xticks(np.arange(0,5.1,.5))\n",
    "plt.xlim(0,5)   #to cut up the kde to realistic limits"
   ]
  },
  {
   "cell_type": "markdown",
   "metadata": {},
   "source": [
    "## Analyzing Distribution shapes"
   ]
  },
  {
   "cell_type": "markdown",
   "metadata": {},
   "source": [
    "We can see that both distributions are left skewed, with the 2016 distribution slightly more symmetrical compared to the 2015 one. The left skew shows that fandango ratings are generally very high compared to other rating agencies. These ratings may have been influenced by the fact that Fandango sells tickets too. \n",
    "\n",
    "The peak density of 2015 movies occur at a higher rating of 4.5 stars than the peak of 2016 at 4 stars. \n",
    "This is evidence that fandango's ratings for popular movies are generally lowered in 2016 compared to 2015"
   ]
  },
  {
   "cell_type": "markdown",
   "metadata": {},
   "source": [
    "## Analyzing Frequency Distrbutions for more granularity"
   ]
  },
  {
   "cell_type": "markdown",
   "metadata": {},
   "source": [
    "2015 has 129 samples while 2016 has 191, absolute numbers is inconvenient for interpretation --> try proportions/percentages"
   ]
  },
  {
   "cell_type": "code",
   "execution_count": 109,
   "metadata": {
    "ExecuteTime": {
     "end_time": "2018-06-29T05:17:34.069644Z",
     "start_time": "2018-06-29T05:17:34.056644Z"
    }
   },
   "outputs": [
    {
     "name": "stdout",
     "output_type": "stream",
     "text": [
      "2015\n",
      "----------------\n",
      " 5.0     6.976744\n",
      "4.5    37.984496\n",
      "4.0    28.682171\n",
      "3.5    17.829457\n",
      "3.0     8.527132\n",
      "Name: Fandango_Stars, dtype: float64\n",
      "\n",
      "2016\n",
      "----------------\n",
      " 5.0     0.523560\n",
      "4.5    24.607330\n",
      "4.0    40.314136\n",
      "3.5    24.083770\n",
      "3.0     7.329843\n",
      "2.5     3.141361\n",
      "Name: fandango, dtype: float64\n"
     ]
    }
   ],
   "source": [
    "dist_2015 = before_2015.Fandango_Stars.value_counts(normalize=True).sort_index(ascending=False)*100\n",
    "dist_2016 = after_2016.fandango.value_counts(normalize=True).sort_index(ascending=False)*100\n",
    "print(\"2015\\n\"+'-'*16+'\\n',dist_2015)\n",
    "\n",
    "print()\n",
    "\n",
    "print(\"2016\\n\"+'-'*16+'\\n',dist_2016)"
   ]
  },
  {
   "cell_type": "markdown",
   "metadata": {},
   "source": [
    "The minimum rating for 2016 was 2.5, lower than the minmum of 3 in 2015. The percentage of 5 stars reduced from 7% to less than 1%. Similarly for 4 stars, it reduced 13% from 38% to 25%. For lower ratings of 3.5 and 4 stars, the % went up significantly in 2016 compared to 2015, which challenges the direction of change seen in the KDE plot. "
   ]
  },
  {
   "cell_type": "markdown",
   "metadata": {},
   "source": [
    "## Comparing Mean, Median, Mode"
   ]
  },
  {
   "cell_type": "code",
   "execution_count": 121,
   "metadata": {
    "ExecuteTime": {
     "end_time": "2018-06-29T05:32:58.923644Z",
     "start_time": "2018-06-29T05:32:58.904644Z"
    }
   },
   "outputs": [
    {
     "data": {
      "text/html": [
       "<div>\n",
       "<style scoped>\n",
       "    .dataframe tbody tr th:only-of-type {\n",
       "        vertical-align: middle;\n",
       "    }\n",
       "\n",
       "    .dataframe tbody tr th {\n",
       "        vertical-align: top;\n",
       "    }\n",
       "\n",
       "    .dataframe thead th {\n",
       "        text-align: right;\n",
       "    }\n",
       "</style>\n",
       "<table border=\"1\" class=\"dataframe\">\n",
       "  <thead>\n",
       "    <tr style=\"text-align: right;\">\n",
       "      <th></th>\n",
       "      <th>2015</th>\n",
       "      <th>2016</th>\n",
       "    </tr>\n",
       "  </thead>\n",
       "  <tbody>\n",
       "    <tr>\n",
       "      <th>mean</th>\n",
       "      <td>4.085271</td>\n",
       "      <td>3.887435</td>\n",
       "    </tr>\n",
       "    <tr>\n",
       "      <th>median</th>\n",
       "      <td>4.000000</td>\n",
       "      <td>4.000000</td>\n",
       "    </tr>\n",
       "    <tr>\n",
       "      <th>mode</th>\n",
       "      <td>4.500000</td>\n",
       "      <td>4.000000</td>\n",
       "    </tr>\n",
       "  </tbody>\n",
       "</table>\n",
       "</div>"
      ],
      "text/plain": [
       "            2015      2016\n",
       "mean    4.085271  3.887435\n",
       "median  4.000000  4.000000\n",
       "mode    4.500000  4.000000"
      ]
     },
     "execution_count": 121,
     "metadata": {},
     "output_type": "execute_result"
    }
   ],
   "source": [
    "mean_2015 = before_2015.Fandango_Stars.mean()\n",
    "median_2015 = before_2015.Fandango_Stars.median()\n",
    "mode_2015 = before_2015.Fandango_Stars.mode()[0]\n",
    "\n",
    "mean_2016 = after_2016.fandango.mean()\n",
    "median_2016 = after_2016.fandango.median()\n",
    "mode_2016 = after_2016.fandango.mode()[0]\n",
    "\n",
    "\n",
    "summary = pd.DataFrame()\n",
    "summary['2015'] = [mean_2015, median_2015, mode_2015]\n",
    "summary['2016'] = [mean_2016, median_2016, mode_2016]\n",
    "summary.index = ['mean', 'median', 'mode']\n",
    "summary\n"
   ]
  },
  {
   "cell_type": "markdown",
   "metadata": {},
   "source": [
    "From 2015 to 2016, the mean has reduced by about 0.2 stars , the median remained the same while the mode reduced bt 0.5 stars. The difference in means is rather small."
   ]
  },
  {
   "cell_type": "code",
   "execution_count": 169,
   "metadata": {
    "ExecuteTime": {
     "end_time": "2018-06-29T05:46:48.658644Z",
     "start_time": "2018-06-29T05:46:48.500644Z"
    }
   },
   "outputs": [
    {
     "data": {
      "text/plain": [
       "<matplotlib.legend.Legend at 0x14842fd0>"
      ]
     },
     "execution_count": 169,
     "metadata": {},
     "output_type": "execute_result"
    },
    {
     "data": {
      "image/png": "[encoded data removed]",
      "text/plain": [
       "<matplotlib.figure.Figure at 0x14544080>"
      ]
     },
     "metadata": {},
     "output_type": "display_data"
    }
   ],
   "source": [
    "plt.style.use('fivethirtyeight')\n",
    "summary['2015'].plot.bar(color = 'b', align = 'center', label = '2015', width = 0.2)\n",
    "summary['2016'].plot.bar(color = 'r', align = 'edge', label = '2016', width = .2,figsize = (8,5), rot = 0)\n",
    "\n",
    "plt.title('Summary statistics\\n(2015 vs 2016)', y = 1.1)\n",
    "plt.ylim(0,5.5)\n",
    "plt.yticks(np.arange(0,5.1,.5))\n",
    "plt.ylabel('Stars')\n",
    "plt.legend(framealpha =0, loc = 'upper center')"
   ]
  },
  {
   "cell_type": "markdown",
   "metadata": {},
   "source": [
    "# Conclusion"
   ]
  },
  {
   "cell_type": "markdown",
   "metadata": {
    "ExecuteTime": {
     "end_time": "2018-06-29T05:48:58.806644Z",
     "start_time": "2018-06-29T05:48:58.797644Z"
    }
   },
   "source": [
    "The analysis of KDEs, the more granular frequency distribution tables and the summary statistics show that Fandango indeed has lower ratings on average (0.2) for it's popular movies rated from 2015 to 2016.\n",
    "\n",
    "Possible explanations could be Fandango changing it's rounding practices which reduced the amount and degree of rounding up done to avoid seeming too inflated compared to other rating agencies because Hickey pointed out the issue.  "
   ]
  }
 ],
 "metadata": {
  "kernelspec": {
   "display_name": "Python 3",
   "language": "python",
   "name": "python3"
  },
  "language_info": {
   "codemirror_mode": {
    "name": "ipython",
    "version": 3
   },
   "file_extension": ".py",
   "mimetype": "text/x-python",
   "name": "python",
   "nbconvert_exporter": "python",
   "pygments_lexer": "ipython3",
   "version": "3.6.3"
  },
  "toc": {
   "base_numbering": 1,
   "nav_menu": {},
   "number_sections": true,
   "sideBar": true,
   "skip_h1_title": false,
   "title_cell": "Table of Contents",
   "title_sidebar": "Contents",
   "toc_cell": true,
   "toc_position": {},
   "toc_section_display": true,
   "toc_window_display": true
  }
 },
 "nbformat": 4,
 "nbformat_minor": 2
}
