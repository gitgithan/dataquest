{
 "cells": [
  {
   "cell_type": "code",
   "execution_count": 1,
   "metadata": {},
   "outputs": [
    {
     "data": {
      "text/plain": [
       "Index(['Show Number', ' Air Date', ' Round', ' Category', ' Value',\n",
       "       ' Question', ' Answer'],\n",
       "      dtype='object')"
      ]
     },
     "execution_count": 1,
     "metadata": {},
     "output_type": "execute_result"
    }
   ],
   "source": [
    "import pandas as pd\n",
    "\n",
    "jeopardy = pd.read_csv(\"jeopardy.csv\")\n",
    "jeopardy.columns"
   ]
  },
  {
   "cell_type": "markdown",
   "metadata": {},
   "source": [
    "# Exploring repeated questions"
   ]
  },
  {
   "cell_type": "code",
   "execution_count": 2,
   "metadata": {},
   "outputs": [
    {
     "data": {
      "text/plain": [
       "[audio clue]                                                                                                             5\n",
       "Adam Levine                                                                                                              2\n",
       "In Nicolai's opera \"The Merry Wives of Windsor\", this fat, funny rogue gets dumped into the river in a laundry basket    2\n",
       "\"His pride had cast him out from heaven, with all his host of rebel angels\"                                              2\n",
       "Poi, a luau treat, is made from these mashed roots                                                                       2\n",
       "Common in Dixie, a razorback is a wild one of these                                                                      2\n",
       "1967: \"We rob banks\"                                                                                                     2\n",
       "These \"fell great oaks\"                                                                                                  2\n",
       "Name:  Question, dtype: int64"
      ]
     },
     "execution_count": 2,
     "metadata": {},
     "output_type": "execute_result"
    }
   ],
   "source": [
    "jeopardy[jeopardy.duplicated(subset = ' Question',keep=False)][' Question'].value_counts()"
   ]
  },
  {
   "cell_type": "code",
   "execution_count": 3,
   "metadata": {},
   "outputs": [
    {
     "data": {
      "text/plain": [
       "(19988,)"
      ]
     },
     "execution_count": 3,
     "metadata": {},
     "output_type": "execute_result"
    }
   ],
   "source": [
    "jeopardy[' Question'].unique().shape"
   ]
  },
  {
   "cell_type": "code",
   "execution_count": 4,
   "metadata": {},
   "outputs": [
    {
     "data": {
      "text/html": [
       "<div>\n",
       "<style>\n",
       "    .dataframe thead tr:only-child th {\n",
       "        text-align: right;\n",
       "    }\n",
       "\n",
       "    .dataframe thead th {\n",
       "        text-align: left;\n",
       "    }\n",
       "\n",
       "    .dataframe tbody tr th {\n",
       "        vertical-align: top;\n",
       "    }\n",
       "</style>\n",
       "<table border=\"1\" class=\"dataframe\">\n",
       "  <thead>\n",
       "    <tr style=\"text-align: right;\">\n",
       "      <th></th>\n",
       "      <th>Show Number</th>\n",
       "      <th>Air Date</th>\n",
       "      <th>Round</th>\n",
       "      <th>Category</th>\n",
       "      <th>Value</th>\n",
       "      <th>Question</th>\n",
       "      <th>Answer</th>\n",
       "    </tr>\n",
       "  </thead>\n",
       "  <tbody>\n",
       "    <tr>\n",
       "      <th>4358</th>\n",
       "      <td>3436</td>\n",
       "      <td>1999-07-12</td>\n",
       "      <td>Double Jeopardy!</td>\n",
       "      <td>NAME THE POET</td>\n",
       "      <td>$600</td>\n",
       "      <td>\"His pride had cast him out from heaven, with ...</td>\n",
       "      <td>John Milton (from \"Paradise Lost\")</td>\n",
       "    </tr>\n",
       "    <tr>\n",
       "      <th>7141</th>\n",
       "      <td>5171</td>\n",
       "      <td>2007-02-19</td>\n",
       "      <td>Double Jeopardy!</td>\n",
       "      <td>NAME THE POET</td>\n",
       "      <td>$400</td>\n",
       "      <td>\"His pride had cast him out from heaven, with ...</td>\n",
       "      <td>Milton</td>\n",
       "    </tr>\n",
       "    <tr>\n",
       "      <th>2654</th>\n",
       "      <td>6125</td>\n",
       "      <td>2011-04-08</td>\n",
       "      <td>Double Jeopardy!</td>\n",
       "      <td>BEST MOVIE QUOTES EVER!</td>\n",
       "      <td>$400</td>\n",
       "      <td>1967: \"We rob banks\"</td>\n",
       "      <td>Bonnie and Clyde</td>\n",
       "    </tr>\n",
       "    <tr>\n",
       "      <th>18431</th>\n",
       "      <td>3520</td>\n",
       "      <td>1999-12-17</td>\n",
       "      <td>Double Jeopardy!</td>\n",
       "      <td>NAME THE MOVIE</td>\n",
       "      <td>$1000</td>\n",
       "      <td>1967: \"We rob banks\"</td>\n",
       "      <td>Bonnie and Clyde</td>\n",
       "    </tr>\n",
       "    <tr>\n",
       "      <th>15687</th>\n",
       "      <td>6260</td>\n",
       "      <td>2011-12-02</td>\n",
       "      <td>Double Jeopardy!</td>\n",
       "      <td>ROCK'S FRONTMEN &amp; WOMEN</td>\n",
       "      <td>$1600</td>\n",
       "      <td>Adam Levine</td>\n",
       "      <td>Maroon 5</td>\n",
       "    </tr>\n",
       "    <tr>\n",
       "      <th>8508</th>\n",
       "      <td>5443</td>\n",
       "      <td>2008-04-16</td>\n",
       "      <td>Jeopardy!</td>\n",
       "      <td>ROCK &amp; ROLL FRONTMEN</td>\n",
       "      <td>$1000</td>\n",
       "      <td>Adam Levine</td>\n",
       "      <td>Maroon 5</td>\n",
       "    </tr>\n",
       "    <tr>\n",
       "      <th>13382</th>\n",
       "      <td>3788</td>\n",
       "      <td>2001-02-07</td>\n",
       "      <td>Jeopardy!</td>\n",
       "      <td>MAMMALS</td>\n",
       "      <td>$300</td>\n",
       "      <td>Common in Dixie, a razorback is a wild one of ...</td>\n",
       "      <td>boar (hog)</td>\n",
       "    </tr>\n",
       "    <tr>\n",
       "      <th>7686</th>\n",
       "      <td>5467</td>\n",
       "      <td>2008-05-20</td>\n",
       "      <td>Double Jeopardy!</td>\n",
       "      <td>MAMMALS</td>\n",
       "      <td>$800</td>\n",
       "      <td>Common in Dixie, a razorback is a wild one of ...</td>\n",
       "      <td>hog</td>\n",
       "    </tr>\n",
       "    <tr>\n",
       "      <th>9169</th>\n",
       "      <td>3907</td>\n",
       "      <td>2001-09-04</td>\n",
       "      <td>Jeopardy!</td>\n",
       "      <td>FUN WITH OPERA</td>\n",
       "      <td>$500</td>\n",
       "      <td>In Nicolai's opera \"The Merry Wives of Windsor...</td>\n",
       "      <td>Falstaff</td>\n",
       "    </tr>\n",
       "    <tr>\n",
       "      <th>15558</th>\n",
       "      <td>5468</td>\n",
       "      <td>2008-05-21</td>\n",
       "      <td>Double Jeopardy!</td>\n",
       "      <td>FUN WITH OPERA</td>\n",
       "      <td>$1200</td>\n",
       "      <td>In Nicolai's opera \"The Merry Wives of Windsor...</td>\n",
       "      <td>Falstaff</td>\n",
       "    </tr>\n",
       "    <tr>\n",
       "      <th>5433</th>\n",
       "      <td>2047</td>\n",
       "      <td>1993-06-29</td>\n",
       "      <td>Double Jeopardy!</td>\n",
       "      <td>FRUITS &amp; VEGETABLES</td>\n",
       "      <td>$600</td>\n",
       "      <td>Poi, a luau treat, is made from these mashed r...</td>\n",
       "      <td>taro</td>\n",
       "    </tr>\n",
       "    <tr>\n",
       "      <th>7699</th>\n",
       "      <td>5467</td>\n",
       "      <td>2008-05-20</td>\n",
       "      <td>Double Jeopardy!</td>\n",
       "      <td>\"T\" TIME</td>\n",
       "      <td>$1600</td>\n",
       "      <td>Poi, a luau treat, is made from these mashed r...</td>\n",
       "      <td>taro</td>\n",
       "    </tr>\n",
       "    <tr>\n",
       "      <th>10413</th>\n",
       "      <td>4122</td>\n",
       "      <td>2002-07-02</td>\n",
       "      <td>Jeopardy!</td>\n",
       "      <td>THE QUOTABLE BEN FRANKLIN</td>\n",
       "      <td>$400</td>\n",
       "      <td>These \"fell great oaks\"</td>\n",
       "      <td>Little strokes</td>\n",
       "    </tr>\n",
       "    <tr>\n",
       "      <th>13737</th>\n",
       "      <td>1191</td>\n",
       "      <td>1989-11-06</td>\n",
       "      <td>Jeopardy!</td>\n",
       "      <td>THE QUOTABLE FRANKLIN</td>\n",
       "      <td>$200</td>\n",
       "      <td>These \"fell great oaks\"</td>\n",
       "      <td>Little Srokes</td>\n",
       "    </tr>\n",
       "    <tr>\n",
       "      <th>19463</th>\n",
       "      <td>3154</td>\n",
       "      <td>1998-04-23</td>\n",
       "      <td>Jeopardy!</td>\n",
       "      <td>MEET THE BEATLES</td>\n",
       "      <td>$400</td>\n",
       "      <td>[audio clue]</td>\n",
       "      <td>\"Ticket to Ride\"</td>\n",
       "    </tr>\n",
       "    <tr>\n",
       "      <th>19445</th>\n",
       "      <td>3154</td>\n",
       "      <td>1998-04-23</td>\n",
       "      <td>Jeopardy!</td>\n",
       "      <td>MEET THE BEATLES</td>\n",
       "      <td>$100</td>\n",
       "      <td>[audio clue]</td>\n",
       "      <td>\"I Want to Hold Your Hand\"</td>\n",
       "    </tr>\n",
       "    <tr>\n",
       "      <th>19451</th>\n",
       "      <td>3154</td>\n",
       "      <td>1998-04-23</td>\n",
       "      <td>Jeopardy!</td>\n",
       "      <td>MEET THE BEATLES</td>\n",
       "      <td>$200</td>\n",
       "      <td>[audio clue]</td>\n",
       "      <td>\"Can't Buy Me Love\"</td>\n",
       "    </tr>\n",
       "    <tr>\n",
       "      <th>19457</th>\n",
       "      <td>3154</td>\n",
       "      <td>1998-04-23</td>\n",
       "      <td>Jeopardy!</td>\n",
       "      <td>MEET THE BEATLES</td>\n",
       "      <td>$300</td>\n",
       "      <td>[audio clue]</td>\n",
       "      <td>\"Eight Days A Week\"</td>\n",
       "    </tr>\n",
       "    <tr>\n",
       "      <th>19469</th>\n",
       "      <td>3154</td>\n",
       "      <td>1998-04-23</td>\n",
       "      <td>Jeopardy!</td>\n",
       "      <td>MEET THE BEATLES</td>\n",
       "      <td>$500</td>\n",
       "      <td>[audio clue]</td>\n",
       "      <td>\"We Can Work It Out\"</td>\n",
       "    </tr>\n",
       "  </tbody>\n",
       "</table>\n",
       "</div>"
      ],
      "text/plain": [
       "       Show Number    Air Date             Round                   Category  \\\n",
       "4358          3436  1999-07-12  Double Jeopardy!              NAME THE POET   \n",
       "7141          5171  2007-02-19  Double Jeopardy!              NAME THE POET   \n",
       "2654          6125  2011-04-08  Double Jeopardy!    BEST MOVIE QUOTES EVER!   \n",
       "18431         3520  1999-12-17  Double Jeopardy!             NAME THE MOVIE   \n",
       "15687         6260  2011-12-02  Double Jeopardy!    ROCK'S FRONTMEN & WOMEN   \n",
       "8508          5443  2008-04-16         Jeopardy!       ROCK & ROLL FRONTMEN   \n",
       "13382         3788  2001-02-07         Jeopardy!                    MAMMALS   \n",
       "7686          5467  2008-05-20  Double Jeopardy!                    MAMMALS   \n",
       "9169          3907  2001-09-04         Jeopardy!             FUN WITH OPERA   \n",
       "15558         5468  2008-05-21  Double Jeopardy!             FUN WITH OPERA   \n",
       "5433          2047  1993-06-29  Double Jeopardy!        FRUITS & VEGETABLES   \n",
       "7699          5467  2008-05-20  Double Jeopardy!                   \"T\" TIME   \n",
       "10413         4122  2002-07-02         Jeopardy!  THE QUOTABLE BEN FRANKLIN   \n",
       "13737         1191  1989-11-06         Jeopardy!      THE QUOTABLE FRANKLIN   \n",
       "19463         3154  1998-04-23         Jeopardy!           MEET THE BEATLES   \n",
       "19445         3154  1998-04-23         Jeopardy!           MEET THE BEATLES   \n",
       "19451         3154  1998-04-23         Jeopardy!           MEET THE BEATLES   \n",
       "19457         3154  1998-04-23         Jeopardy!           MEET THE BEATLES   \n",
       "19469         3154  1998-04-23         Jeopardy!           MEET THE BEATLES   \n",
       "\n",
       "       Value                                           Question  \\\n",
       "4358    $600  \"His pride had cast him out from heaven, with ...   \n",
       "7141    $400  \"His pride had cast him out from heaven, with ...   \n",
       "2654    $400                               1967: \"We rob banks\"   \n",
       "18431  $1000                               1967: \"We rob banks\"   \n",
       "15687  $1600                                        Adam Levine   \n",
       "8508   $1000                                        Adam Levine   \n",
       "13382   $300  Common in Dixie, a razorback is a wild one of ...   \n",
       "7686    $800  Common in Dixie, a razorback is a wild one of ...   \n",
       "9169    $500  In Nicolai's opera \"The Merry Wives of Windsor...   \n",
       "15558  $1200  In Nicolai's opera \"The Merry Wives of Windsor...   \n",
       "5433    $600  Poi, a luau treat, is made from these mashed r...   \n",
       "7699   $1600  Poi, a luau treat, is made from these mashed r...   \n",
       "10413   $400                            These \"fell great oaks\"   \n",
       "13737   $200                            These \"fell great oaks\"   \n",
       "19463   $400                                       [audio clue]   \n",
       "19445   $100                                       [audio clue]   \n",
       "19451   $200                                       [audio clue]   \n",
       "19457   $300                                       [audio clue]   \n",
       "19469   $500                                       [audio clue]   \n",
       "\n",
       "                                   Answer  \n",
       "4358   John Milton (from \"Paradise Lost\")  \n",
       "7141                               Milton  \n",
       "2654                     Bonnie and Clyde  \n",
       "18431                    Bonnie and Clyde  \n",
       "15687                            Maroon 5  \n",
       "8508                             Maroon 5  \n",
       "13382                          boar (hog)  \n",
       "7686                                  hog  \n",
       "9169                             Falstaff  \n",
       "15558                            Falstaff  \n",
       "5433                                 taro  \n",
       "7699                                 taro  \n",
       "10413                      Little strokes  \n",
       "13737                       Little Srokes  \n",
       "19463                    \"Ticket to Ride\"  \n",
       "19445          \"I Want to Hold Your Hand\"  \n",
       "19451                 \"Can't Buy Me Love\"  \n",
       "19457                 \"Eight Days A Week\"  \n",
       "19469                \"We Can Work It Out\"  "
      ]
     },
     "execution_count": 4,
     "metadata": {},
     "output_type": "execute_result"
    }
   ],
   "source": [
    "jeopardy[jeopardy.duplicated(subset = ' Question',keep=False)].sort_values(by = ' Question')"
   ]
  },
  {
   "cell_type": "code",
   "execution_count": 5,
   "metadata": {},
   "outputs": [
    {
     "data": {
      "text/plain": [
       "TELEVISION                             51\n",
       "U.S. GEOGRAPHY                         50\n",
       "LITERATURE                             45\n",
       "HISTORY                                40\n",
       "BEFORE & AFTER                         40\n",
       "AMERICAN HISTORY                       40\n",
       "AUTHORS                                39\n",
       "WORD ORIGINS                           38\n",
       "WORLD CAPITALS                         37\n",
       "SPORTS                                 36\n",
       "BODIES OF WATER                        36\n",
       "SCIENCE                                35\n",
       "MAGAZINES                              35\n",
       "SCIENCE & NATURE                       35\n",
       "RHYME TIME                             35\n",
       "WORLD GEOGRAPHY                        33\n",
       "ANNUAL EVENTS                          32\n",
       "WORLD HISTORY                          32\n",
       "HISTORIC NAMES                         32\n",
       "FICTIONAL CHARACTERS                   31\n",
       "BIRDS                                  31\n",
       "IN THE DICTIONARY                      31\n",
       "ISLANDS                                30\n",
       "U.S. PRESIDENTS                        30\n",
       "MEDICINE                               30\n",
       "OPERA                                  30\n",
       "TRAVEL & TOURISM                       30\n",
       "POTPOURRI                              30\n",
       "BALLET                                 29\n",
       "ART                                    28\n",
       "                                       ..\n",
       "RENAISSANCE LITERATURE                  1\n",
       "THEATRICAL PREMIERES                    1\n",
       "HISTORIC HEADLINES                      1\n",
       "NATIONAL HISTORIC SITES                 1\n",
       "REPUBLICANS                             1\n",
       "INFLUENTIAL 19th CENTURY THINKERS       1\n",
       "20th CENTURY U.S. PRESIDENTS            1\n",
       "SANE SCIENTISTS                         1\n",
       "THE SPACE RACE                          1\n",
       "FAMOUS FELINES                          1\n",
       "ODD TITLES                              1\n",
       "SPORTS & RECREATION                     1\n",
       "20th CENTURY VICE PRESIDENTS            1\n",
       "BOOK TITLES                             1\n",
       "TELEVISION HISTORY                      1\n",
       "BATTLES                                 1\n",
       "ARLINGTON'S TOMB OF UNKNOWNS            1\n",
       "BRITAIN'S NATIONAL PORTRAIT GALLERY     1\n",
       "AMERICAN WOMEN                          1\n",
       "CHARACTERS IN BOOKS                     1\n",
       "'60s OSCAR-WINNING FILMS                1\n",
       "SCIENTIFIC FIRSTS                       1\n",
       "THE EARTH                               1\n",
       "SPORTS CITIES                           1\n",
       "MOVIES & DANCE                          1\n",
       "1950s LITERATURE                        1\n",
       "FICTION                                 1\n",
       "KNOWLEDGE BY THE NUMBERS                1\n",
       "EMPIRES                                 1\n",
       "THE EAST COAST                          1\n",
       "Name:  Category, Length: 3581, dtype: int64"
      ]
     },
     "execution_count": 5,
     "metadata": {},
     "output_type": "execute_result"
    }
   ],
   "source": [
    "%matplotlib inline  \n",
    "jeopardy[' Category'].value_counts()"
   ]
  },
  {
   "cell_type": "code",
   "execution_count": 6,
   "metadata": {},
   "outputs": [
    {
     "data": {
      "text/plain": [
       "Index(['Show Number', 'Air Date', 'Round', 'Category', 'Value', 'Question',\n",
       "       'Answer'],\n",
       "      dtype='object')"
      ]
     },
     "execution_count": 6,
     "metadata": {},
     "output_type": "execute_result"
    }
   ],
   "source": [
    "jeopardy.columns = [name.strip() for name in jeopardy.columns]\n",
    "jeopardy.columns"
   ]
  },
  {
   "cell_type": "code",
   "execution_count": 7,
   "metadata": {},
   "outputs": [],
   "source": [
    "import re\n",
    "\n",
    "'''\n",
    " Regex Guide:  \n",
    "     [^ ] means matching negation of contained elements \n",
    "     \\s matches white space\n",
    "'''\n",
    " \n",
    "def normalize_text(text):\n",
    "    text = text.lower()\n",
    "    text = re.sub(\"[^A-Za-z0-9\\s]\", \"\", text)\n",
    "    return text\n",
    "\n",
    "def normalize_values(text):\n",
    "    text = re.sub(\"[^A-Za-z0-9\\s]\", \"\", text)\n",
    "    try:\n",
    "        text = int(text)\n",
    "    except Exception:\n",
    "        text = 0\n",
    "    return text\n",
    "\n",
    "jeopardy[\"clean_question\"] = jeopardy[\"Question\"].apply(normalize_text)\n",
    "jeopardy[\"clean_answer\"] = jeopardy[\"Answer\"].apply(normalize_text)\n",
    "jeopardy[\"clean_value\"] = jeopardy[\"Value\"].apply(normalize_values)\n",
    "\n",
    "jeopardy[\"Air Date\"] = pd.to_datetime(jeopardy[\"Air Date\"])"
   ]
  },
  {
   "cell_type": "code",
   "execution_count": 8,
   "metadata": {
    "scrolled": false
   },
   "outputs": [
    {
     "data": {
      "text/plain": [
       "0.060493257069335914"
      ]
     },
     "execution_count": 8,
     "metadata": {},
     "output_type": "execute_result"
    }
   ],
   "source": [
    "def parse(series):\n",
    "    split_answer = series['clean_answer'].split(' ')\n",
    "    split_question = series['clean_question'].split(' ')\n",
    "    \n",
    "    \n",
    "    if 'the' in split_answer:\n",
    "        split_answer.remove('the')\n",
    "        \n",
    "    if len(split_answer) == 0:\n",
    "        return 0\n",
    "    \n",
    "    match_count= 0\n",
    "    \n",
    "    for word in split_answer:\n",
    "        if word in split_question:\n",
    "            match_count+=1     \n",
    "        \n",
    "    return match_count/len(split_answer)\n",
    "\n",
    "\n",
    "\n",
    "pd.set_option('max_colwidth', 150)\n",
    "\n",
    "jeopardy['answer_in_question'] = jeopardy.apply(parse, axis=1)\n",
    "#strategy1 = jeopardy[['clean_question','clean_answer','answer_in_question']][jeopardy['answer_in_question']>0]\n",
    "#freq = strategy1['answer_in_question'].value_counts().sort_index(ascending=False)\n",
    "jeopardy[\"answer_in_question\"].mean()\n"
   ]
  },
  {
   "cell_type": "code",
   "execution_count": 9,
   "metadata": {},
   "outputs": [],
   "source": [
    "#freq"
   ]
  },
  {
   "cell_type": "code",
   "execution_count": 10,
   "metadata": {},
   "outputs": [],
   "source": [
    "#import matplotlib.pyplot as plt\n",
    "#%matplotlib inline \n",
    "#plt.bar(freq.index,freq.values,width=0.02)\n",
    "#plt.title('Counts(y) of each % match(x) of answer in question')"
   ]
  },
  {
   "cell_type": "markdown",
   "metadata": {},
   "source": [
    "From the mean, answer appears in question 6% of the time. To be specific, out of 19999 questions, only about 1700 of them have 50% of more of the answer appearing in the question. It is not a good strategy to guess answers from questions."
   ]
  },
  {
   "cell_type": "markdown",
   "metadata": {},
   "source": [
    "# Finding number of terms in question that match the term set\n",
    "## 1st solution has higher count because term is added while looking through words in question. Repeat words in same question will be counted in 1st solution but not in 2nd\n"
   ]
  },
  {
   "cell_type": "code",
   "execution_count": 11,
   "metadata": {},
   "outputs": [
    {
     "data": {
      "text/plain": [
       "0.6925960057338565"
      ]
     },
     "execution_count": 11,
     "metadata": {},
     "output_type": "execute_result"
    }
   ],
   "source": [
    "question_overlap= []\n",
    "terms_used = set()\n",
    "for index, row in jeopardy.iterrows():\n",
    "    \n",
    "    split_question = row['clean_question'].split(' ')\n",
    "    split_question = [word for word in split_question if len(word)>=6]\n",
    "    match_count=0\n",
    "    for word in split_question:\n",
    "        if word in terms_used:\n",
    "            match_count+=1\n",
    "        terms_used.add(word)\n",
    "     \n",
    "    if len(split_question) > 0:\n",
    "            match_count /= len(split_question)\n",
    "    question_overlap.append(match_count)\n",
    "\n",
    "jeopardy['question_overlap'] =question_overlap\n",
    "jeopardy[\"question_overlap\"].mean()\n",
    "\n",
    "        "
   ]
  },
  {
   "cell_type": "code",
   "execution_count": 12,
   "metadata": {},
   "outputs": [
    {
     "data": {
      "text/plain": [
       "0.6908737315671878"
      ]
     },
     "execution_count": 12,
     "metadata": {},
     "output_type": "execute_result"
    }
   ],
   "source": [
    "question_overlap = []\n",
    "terms_used = set()\n",
    "for i, row in jeopardy.iterrows():\n",
    "        split_question = row[\"clean_question\"].split(\" \")\n",
    "        split_question = [q for q in split_question if len(q) > 5]\n",
    "        match_count = 0\n",
    "        for word in split_question:\n",
    "            if word in terms_used:\n",
    "                match_count += 1\n",
    "        for word in split_question:\n",
    "            terms_used.add(word)\n",
    "        if len(split_question) > 0:\n",
    "            match_count /= len(split_question)\n",
    "        question_overlap.append(match_count)\n",
    "jeopardy[\"question_overlap\"] = question_overlap\n",
    "\n",
    "jeopardy[\"question_overlap\"].mean()"
   ]
  },
  {
   "cell_type": "markdown",
   "metadata": {},
   "source": [
    "About 70% of the terms in newer questions have appeared in earlier questions. Studying previous questions is a good strategy. However this method only looks at single words. If there were high incidence of phrase or entire sentence matches, this strategy will be much be encouraged."
   ]
  },
  {
   "cell_type": "code",
   "execution_count": 13,
   "metadata": {},
   "outputs": [
    {
     "data": {
      "text/plain": [
       "([(1, 0), (0, 1), (1, 0), (0, 1), (1, 0)],\n",
       " ['kandinsky', 'jacquelyn', 'monmouth', 'monkeyfaced', 'carloman'])"
      ]
     },
     "execution_count": 13,
     "metadata": {},
     "output_type": "execute_result"
    }
   ],
   "source": [
    "def determine_value(row):\n",
    "    value = 0\n",
    "    if row[\"clean_value\"] > 800:\n",
    "        value = 1\n",
    "    return value\n",
    "\n",
    "jeopardy[\"high_value\"] = jeopardy.apply(determine_value, axis=1)\n",
    "\n",
    "jeopardy[\"high_value\"] = jeopardy.apply(determine_value, axis=1)\n",
    "\n",
    "\n",
    "def count_usage(term):\n",
    "    low_count = 0\n",
    "    high_count = 0\n",
    "    for i, row in jeopardy.iterrows():\n",
    "        if term in row[\"clean_question\"].split(\" \"):\n",
    "            if row[\"high_value\"] == 1:\n",
    "                high_count += 1\n",
    "            else:\n",
    "                low_count += 1\n",
    "    return high_count, low_count\n",
    "\n",
    "comparison_terms = list(terms_used)[:5]\n",
    "observed_expected = []\n",
    "for term in comparison_terms:\n",
    "    observed_expected.append(count_usage(term))\n",
    "\n",
    "observed_expected,comparison_terms"
   ]
  },
  {
   "cell_type": "markdown",
   "metadata": {},
   "source": [
    "# Chi-Squared result\n"
   ]
  },
  {
   "cell_type": "code",
   "execution_count": 14,
   "metadata": {},
   "outputs": [
    {
     "data": {
      "text/plain": [
       "[Power_divergenceResult(statistic=2.4877921171956752, pvalue=0.11473257634454047),\n",
       " Power_divergenceResult(statistic=0.40196284612688399, pvalue=0.52607729857054686),\n",
       " Power_divergenceResult(statistic=2.4877921171956752, pvalue=0.11473257634454047),\n",
       " Power_divergenceResult(statistic=0.40196284612688399, pvalue=0.52607729857054686),\n",
       " Power_divergenceResult(statistic=2.4877921171956752, pvalue=0.11473257634454047)]"
      ]
     },
     "execution_count": 14,
     "metadata": {},
     "output_type": "execute_result"
    }
   ],
   "source": [
    "\n",
    "from scipy.stats import chisquare\n",
    "import numpy as np\n",
    "\n",
    "high_value_count = jeopardy[jeopardy[\"high_value\"] == 1].shape[0]\n",
    "low_value_count = jeopardy[jeopardy[\"high_value\"] == 0].shape[0]\n",
    "\n",
    "chi_squared = []\n",
    "for obs in observed_expected:\n",
    "    total = sum(obs)\n",
    "    total_prop = total / jeopardy.shape[0]\n",
    "    high_value_exp = total_prop * high_value_count\n",
    "    low_value_exp = total_prop * low_value_count\n",
    "    \n",
    "    observed = np.array([obs[0], obs[1]])\n",
    "    expected = np.array([high_value_exp, low_value_exp])\n",
    "    chi_squared.append(chisquare(observed, expected))\n",
    "\n",
    "chi_squared"
   ]
  },
  {
   "cell_type": "markdown",
   "metadata": {},
   "source": [
    "None of the 5 terms have pvalue below 0.05 so there are no satistically significant difference in usage between high value and low value rows. The frequencies were all small, making the chi squared test less valid. This test is more informative with higher frequencies"
   ]
  },
  {
   "cell_type": "code",
   "execution_count": null,
   "metadata": {
    "collapsed": true
   },
   "outputs": [],
   "source": []
  }
 ],
 "metadata": {
  "kernelspec": {
   "display_name": "Python 3",
   "language": "python",
   "name": "python3"
  },
  "language_info": {
   "codemirror_mode": {
    "name": "ipython",
    "version": 3
   },
   "file_extension": ".py",
   "mimetype": "text/x-python",
   "name": "python",
   "nbconvert_exporter": "python",
   "pygments_lexer": "ipython3",
   "version": "3.6.3"
  }
 },
 "nbformat": 4,
 "nbformat_minor": 2
}
